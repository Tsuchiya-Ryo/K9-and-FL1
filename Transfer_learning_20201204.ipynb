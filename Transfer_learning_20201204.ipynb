{
 "cells": [
  {
   "cell_type": "markdown",
   "metadata": {},
   "source": [
    "## Developed on GoogleColab"
   ]
  },
  {
   "cell_type": "code",
   "execution_count": null,
   "metadata": {
    "colab": {
     "base_uri": "https://localhost:8080/"
    },
    "executionInfo": {
     "elapsed": 19225,
     "status": "ok",
     "timestamp": 1607046366758,
     "user": {
      "displayName": "土屋遼",
      "photoUrl": "",
      "userId": "01229349598003176930"
     },
     "user_tz": -540
    },
    "id": "R2xp2cKqV5mB",
    "outputId": "93b117ce-4f0f-4e2f-8b4f-1216864642a6",
    "scrolled": false
   },
   "outputs": [],
   "source": [
    "from google.colab import drive \n",
    "drive.mount('/content/drive', force_remount=True)"
   ]
  },
  {
   "cell_type": "code",
   "execution_count": null,
   "metadata": {
    "id": "0syEf_HmeJri"
   },
   "outputs": [],
   "source": [
    "# input shapes\n",
    "\n",
    "#         # Coefficients:   width,depth,res,dropout\n",
    "#         'efficientnet-b0': (1.0, 1.0, 224, 0.2),\n",
    "#         'efficientnet-b1': (1.0, 1.1, 240, 0.2),\n",
    "#         'efficientnet-b2': (1.1, 1.2, 260, 0.3),\n",
    "#         'efficientnet-b3': (1.2, 1.4, 300, 0.3),\n",
    "#         'efficientnet-b4': (1.4, 1.8, 380, 0.4),\n",
    "#         'efficientnet-b5': (1.6, 2.2, 456, 0.4),\n",
    "#         'efficientnet-b6': (1.8, 2.6, 528, 0.5),\n",
    "#         'efficientnet-b7': (2.0, 3.1, 600, 0.5),\n"
   ]
  },
  {
   "cell_type": "markdown",
   "metadata": {},
   "source": [
    "### Transfer learning\n",
    "#### import and seet seeds"
   ]
  },
  {
   "cell_type": "code",
   "execution_count": null,
   "metadata": {
    "id": "hoaOLr7MhAjB"
   },
   "outputs": [],
   "source": [
    "import glob\n",
    "import os.path as osp\n",
    "import random\n",
    "import numpy as np\n",
    "from PIL import Image\n",
    "\n",
    "import torch\n",
    "import torch.nn as nn\n",
    "import torch.optim as optim\n",
    "import torch.utils.data as data\n",
    "import torchvision\n",
    "from torchvision import models, transforms\n",
    "from torch.utils.data import DataLoader\n",
    "\n",
    "torch.manual_seed(0)\n",
    "np.random.seed(0)\n",
    "random.seed(0)\n"
   ]
  },
  {
   "cell_type": "markdown",
   "metadata": {},
   "source": [
    "#### Preprocessing class"
   ]
  },
  {
   "cell_type": "code",
   "execution_count": null,
   "metadata": {
    "id": "rzbMdk0qkBCx"
   },
   "outputs": [],
   "source": [
    "resize = 224\n",
    "mean = (0.485, 0.456, 0.406)\n",
    "std = (0.229, 0.224, 0.22)\n",
    "\n",
    "class ImageTransform():\n",
    "  \n",
    "  def __init__(self, resize, mean, std):\n",
    "    self.data_transform = {\n",
    "        \"train\": transforms.Compose([\n",
    "                                     transforms.RandomResizedCrop(\n",
    "                                         resize, scale=(0.5, 1.0)),\n",
    "                                     transforms.RandomHorizontalFlip(),\n",
    "                                     transforms.ToTensor(),\n",
    "                                     transforms.Normalize(mean, std)]),\n",
    "        \"val\": transforms.Compose([\n",
    "                                   transforms.Resize(resize),\n",
    "                                   transforms.CenterCrop(resize),\n",
    "                                   transforms.ToTensor(),\n",
    "                                   transforms.Normalize(mean, std)\n",
    "        ])\n",
    "    }\n",
    "  \n",
    "  def __call__(self, img, phase=\"train\"):\n",
    "    return self.data_transform[phase](img)"
   ]
  },
  {
   "cell_type": "code",
   "execution_count": null,
   "metadata": {
    "id": "EEigDKRyQElg"
   },
   "outputs": [],
   "source": [
    "# preprocessing class\n",
    "\n",
    "class BaseTransform():\n",
    "\n",
    "  def __init__(self, resize, mean, std):\n",
    "    self.base_transform = transforms.Compose([\n",
    "                                              transforms.Resize(resize),\n",
    "                                              transforms.CenterCrop(resize),\n",
    "                                              transforms.ToTensor(),\n",
    "                                              transforms.Normalize(mean, std),\n",
    "    ])\n",
    "  def __call__(self, img):\n",
    "    return self.base_transform(img)"
   ]
  },
  {
   "cell_type": "markdown",
   "metadata": {},
   "source": [
    "#### Training and Validation Image Path (redundant)\n",
    "Images are corrected by using Flickr api"
   ]
  },
  {
   "cell_type": "code",
   "execution_count": null,
   "metadata": {
    "colab": {
     "base_uri": "https://localhost:8080/"
    },
    "executionInfo": {
     "elapsed": 3692,
     "status": "ok",
     "timestamp": 1607046386317,
     "user": {
      "displayName": "土屋遼",
      "photoUrl": "",
      "userId": "01229349598003176930"
     },
     "user_tz": -540
    },
    "id": "67rdzFvzlnph",
    "outputId": "5e5c5bfe-f6e4-44ed-918a-ec5f232083aa"
   },
   "outputs": [
    {
     "name": "stdout",
     "output_type": "stream",
     "text": [
      "350 345 350 350\n",
      "960 435\n",
      "960 435\n"
     ]
    }
   ],
   "source": [
    "rootpath = \"/content/drive/MyDrive/Colab Notebooks/data/\"\n",
    "dog_target_path = osp.join(rootpath+\"dog/*.jpg\")\n",
    "cat_target_path = osp.join(rootpath+\"cat/*.jpg\")\n",
    "puppy_target_path = osp.join(rootpath+\"pup/*.jpg\")\n",
    "kitten_target_path = osp.join(rootpath+\"kit/*.jpg\")\n",
    "\n",
    "dog_list = []\n",
    "cat_list = []\n",
    "puppy_list = []\n",
    "kitten_list = []\n",
    "\n",
    "for path in glob.glob(dog_target_path):\n",
    "  dog_list.append(path)\n",
    "\n",
    "for path in glob.glob(cat_target_path):\n",
    "  cat_list.append(path)\n",
    "\n",
    "for path in glob.glob(puppy_target_path):\n",
    "  puppy_list.append(path)\n",
    "\n",
    "for path in glob.glob(kitten_target_path):\n",
    "  kitten_list.append(path)\n",
    "\n",
    "random.seed(0)\n",
    "for i in [dog_list, cat_list, puppy_list, kitten_list]:\n",
    "  random.shuffle(i)\n",
    "\n",
    "train_list = dog_list[:240] + cat_list[:240] + puppy_list[:240] + kitten_list[:240]\n",
    "val_list = dog_list[240:] + cat_list[240:] + puppy_list[240:] + kitten_list[240:]\n",
    "total_data = train_list + val_list\n",
    "print(len(dog_list), len(cat_list), len(puppy_list), len(kitten_list))\n",
    "print(len(train_list), len(val_list))\n",
    "print(len(total_data[:960]), len(total_data[960:]))"
   ]
  },
  {
   "cell_type": "code",
   "execution_count": null,
   "metadata": {
    "colab": {
     "base_uri": "https://localhost:8080/",
     "height": 269
    },
    "executionInfo": {
     "elapsed": 1387,
     "status": "ok",
     "timestamp": 1606975982960,
     "user": {
      "displayName": "土屋遼",
      "photoUrl": "",
      "userId": "01229349598003176930"
     },
     "user_tz": -540
    },
    "id": "rtiDPiShR0I0",
    "outputId": "1b525c9c-c54d-414b-922c-e19b6ee4c256"
   },
   "outputs": [
    {
     "data": {
      "image/png": "[encoded data removed]",
      "text/plain": [
       "<Figure size 432x288 with 1 Axes>"
      ]
     },
     "metadata": {
      "needs_background": "light",
      "tags": []
     },
     "output_type": "display_data"
    }
   ],
   "source": [
    "img_ = Image.open(puppy_list[23])\n",
    "plt.imshow(img_)\n",
    "plt.show()"
   ]
  },
  {
   "cell_type": "code",
   "execution_count": null,
   "metadata": {
    "colab": {
     "base_uri": "https://localhost:8080/"
    },
    "executionInfo": {
     "elapsed": 587,
     "status": "ok",
     "timestamp": 1606974427928,
     "user": {
      "displayName": "土屋遼",
      "photoUrl": "",
      "userId": "01229349598003176930"
     },
     "user_tz": -540
    },
    "id": "zG1TkD7ugZtM",
    "outputId": "800b150e-2aa9-42de-ff5b-d33f9b852048"
   },
   "outputs": [
    {
     "name": "stdout",
     "output_type": "stream",
     "text": [
      "/content/drive/MyDrive/Colab Notebooks/data/pup/531189149.jpg\n",
      "pup\n"
     ]
    }
   ],
   "source": [
    "print(total_data[611])\n",
    "print(total_data[611][44:47])"
   ]
  },
  {
   "cell_type": "markdown",
   "metadata": {},
   "source": [
    "#### Make Dataset"
   ]
  },
  {
   "cell_type": "code",
   "execution_count": null,
   "metadata": {
    "id": "vPBKlgUXSo7d"
   },
   "outputs": [],
   "source": [
    "# make dataset\n",
    "class K9nF9(data.Dataset):\n",
    "  def __init__(self, file_list, transform=None, phase=\"train\"):\n",
    "    self.file_list = file_list\n",
    "    self.transform = transform\n",
    "    self.phase = phase\n",
    "\n",
    "  def __len__(self):\n",
    "    return len(self.file_list)\n",
    "\n",
    "  def __getitem__(self, index):\n",
    "\n",
    "    img_path = self.file_list[index]\n",
    "    img = Image.open(img_path)\n",
    "    if len(np.array(img).shape) != 3:\n",
    "      img = transforms.Grayscale(num_output_channels=3)(img)\n",
    "\n",
    "    img_transformed = self.transform(\n",
    "        img, self.phase)\n",
    "\n",
    "    label = img_path[44:47]\n",
    "\n",
    "    if label == \"dog\":\n",
    "      label = torch.Tensor([0,0])\n",
    "    elif label == \"cat\":\n",
    "      label = torch.Tensor([1,0])\n",
    "    elif label == \"pup\":\n",
    "      label = torch.Tensor([0,1])\n",
    "    elif label == \"kit\":\n",
    "      label = torch.Tensor([1,1])\n",
    "    \n",
    "    return img_transformed, label"
   ]
  },
  {
   "cell_type": "code",
   "execution_count": null,
   "metadata": {
    "colab": {
     "base_uri": "https://localhost:8080/"
    },
    "executionInfo": {
     "elapsed": 1255,
     "status": "ok",
     "timestamp": 1607046396626,
     "user": {
      "displayName": "土屋遼",
      "photoUrl": "",
      "userId": "01229349598003176930"
     },
     "user_tz": -540
    },
    "id": "aV0FWkAshN4s",
    "outputId": "3f2e796b-b3a2-4a79-c953-65b803bb787d"
   },
   "outputs": [
    {
     "name": "stdout",
     "output_type": "stream",
     "text": [
      "torch.Size([3, 224, 224])\n",
      "tensor([0., 0.])\n"
     ]
    }
   ],
   "source": [
    "train_dataset = K9nF9(\n",
    "    file_list=total_data[:960], transform=ImageTransform(resize, mean, std), phase=\"train\")\n",
    "val_dataset = K9nF9(\n",
    "    file_list=total_data[960:], transform=ImageTransform(resize, mean, std), phase=\"val\")\n",
    "\n",
    "index = 32\n",
    "print(train_dataset.__getitem__(index)[0].size())\n",
    "print(train_dataset.__getitem__(index)[1])\n"
   ]
  },
  {
   "cell_type": "markdown",
   "metadata": {
    "id": "-JiWf9Mt_YVI"
   },
   "source": [
    "#### Make Dataloader"
   ]
  },
  {
   "cell_type": "code",
   "execution_count": null,
   "metadata": {
    "colab": {
     "base_uri": "https://localhost:8080/"
    },
    "executionInfo": {
     "elapsed": 9485,
     "status": "ok",
     "timestamp": 1607046409673,
     "user": {
      "displayName": "土屋遼",
      "photoUrl": "",
      "userId": "01229349598003176930"
     },
     "user_tz": -540
    },
    "id": "BeKS0JDuiGop",
    "outputId": "6481381e-c7d9-4c0e-f294-a5cd2ff26813"
   },
   "outputs": [
    {
     "name": "stdout",
     "output_type": "stream",
     "text": [
      "torch.Size([32, 3, 224, 224])\n",
      "tensor([[0., 0.],\n",
      "        [0., 0.],\n",
      "        [0., 0.],\n",
      "        [0., 0.],\n",
      "        [0., 0.],\n",
      "        [0., 0.],\n",
      "        [0., 0.],\n",
      "        [0., 0.],\n",
      "        [0., 0.],\n",
      "        [0., 0.],\n",
      "        [0., 0.],\n",
      "        [0., 0.],\n",
      "        [0., 0.],\n",
      "        [0., 0.],\n",
      "        [0., 0.],\n",
      "        [0., 0.],\n",
      "        [0., 0.],\n",
      "        [0., 0.],\n",
      "        [0., 0.],\n",
      "        [0., 0.],\n",
      "        [0., 0.],\n",
      "        [0., 0.],\n",
      "        [0., 0.],\n",
      "        [0., 0.],\n",
      "        [0., 0.],\n",
      "        [0., 0.],\n",
      "        [0., 0.],\n",
      "        [0., 0.],\n",
      "        [0., 0.],\n",
      "        [0., 0.],\n",
      "        [0., 0.],\n",
      "        [0., 0.]])\n"
     ]
    }
   ],
   "source": [
    "batch_size = 32\n",
    "\n",
    "train_dataloader = DataLoader(\n",
    "    train_dataset, batch_size=batch_size, shuffle=True)\n",
    "val_dataloader = DataLoader(\n",
    "    val_dataset, batch_size=batch_size, shuffle=False)\n",
    "\n",
    "dataloaders_dict = {\"train\":train_dataloader,  \"val\":val_dataloader}\n",
    "\n",
    "batch_iterator = iter(dataloaders_dict[\"val\"])\n",
    "inputs, labels = next(batch_iterator)\n",
    "print(inputs.size())\n",
    "print(labels)"
   ]
  },
  {
   "cell_type": "markdown",
   "metadata": {
    "id": "z3SeKBk5_Shv"
   },
   "source": [
    "#### Install EfficientNet and Change Output Nodes\n",
    "Two nodes: Cat/Dog-node and Young/Aduls-node"
   ]
  },
  {
   "cell_type": "code",
   "execution_count": null,
   "metadata": {
    "colab": {
     "base_uri": "https://localhost:8080/"
    },
    "executionInfo": {
     "elapsed": 4225,
     "status": "ok",
     "timestamp": 1607046416129,
     "user": {
      "displayName": "土屋遼",
      "photoUrl": "",
      "userId": "01229349598003176930"
     },
     "user_tz": -540
    },
    "id": "gxvjm6dnjL01",
    "outputId": "dd9a737a-1161-4d89-b7ae-d3e270d8fc50"
   },
   "outputs": [
    {
     "name": "stdout",
     "output_type": "stream",
     "text": [
      "Collecting efficientnet_pytorch\n",
      "  Downloading https://files.pythonhosted.org/packages/4e/83/f9c5f44060f996279e474185ebcbd8dbd91179593bffb9abe3afa55d085b/efficientnet_pytorch-0.7.0.tar.gz\n",
      "Requirement already satisfied: torch in /usr/local/lib/python3.6/dist-packages (from efficientnet_pytorch) (1.7.0+cu101)\n",
      "Requirement already satisfied: numpy in /usr/local/lib/python3.6/dist-packages (from torch->efficientnet_pytorch) (1.18.5)\n",
      "Requirement already satisfied: dataclasses in /usr/local/lib/python3.6/dist-packages (from torch->efficientnet_pytorch) (0.8)\n",
      "Requirement already satisfied: typing-extensions in /usr/local/lib/python3.6/dist-packages (from torch->efficientnet_pytorch) (3.7.4.3)\n",
      "Requirement already satisfied: future in /usr/local/lib/python3.6/dist-packages (from torch->efficientnet_pytorch) (0.16.0)\n",
      "Building wheels for collected packages: efficientnet-pytorch\n",
      "  Building wheel for efficientnet-pytorch (setup.py) ... \u001b[?25l\u001b[?25hdone\n",
      "  Created wheel for efficientnet-pytorch: filename=efficientnet_pytorch-0.7.0-cp36-none-any.whl size=16031 sha256=65f6f0856c4128e382940cd7811ed08c9977793a1f64853522d7aa59b90e8782\n",
      "  Stored in directory: /root/.cache/pip/wheels/e9/c6/e1/7a808b26406239712cfce4b5ceeb67d9513ae32aa4b31445c6\n",
      "Successfully built efficientnet-pytorch\n",
      "Installing collected packages: efficientnet-pytorch\n",
      "Successfully installed efficientnet-pytorch-0.7.0\n"
     ]
    }
   ],
   "source": [
    "!pip install efficientnet_pytorch"
   ]
  },
  {
   "cell_type": "code",
   "execution_count": null,
   "metadata": {
    "colab": {
     "base_uri": "https://localhost:8080/",
     "height": 104,
     "referenced_widgets": [
      "07be014e3e744dc8b3b2a55d64ab8a6e",
      "cba19a3c44874b54bd00cd9c142e8a1c",
      "a5581cf4d60a41f3a87fb29068dab284",
      "bb13388ea0d74647901df07cdf81c46b",
      "f35f119046644d4fa017e806d95f225a",
      "4a84d9a201c04f12909ed651e8455108",
      "fd842317180c40f9936761478dfa7dd3",
      "4d64db1858d64eb8ae17de1cc310bd4f"
     ]
    },
    "executionInfo": {
     "elapsed": 1180,
     "status": "ok",
     "timestamp": 1607046418645,
     "user": {
      "displayName": "土屋遼",
      "photoUrl": "",
      "userId": "01229349598003176930"
     },
     "user_tz": -540
    },
    "id": "HqcE9g_EkZDY",
    "outputId": "3b2dfc97-3968-42b8-dedc-02a5c16d493b"
   },
   "outputs": [
    {
     "name": "stderr",
     "output_type": "stream",
     "text": [
      "Downloading: \"https://github.com/lukemelas/EfficientNet-PyTorch/releases/download/1.0/efficientnet-b0-355c32eb.pth\" to /root/.cache/torch/hub/checkpoints/efficientnet-b0-355c32eb.pth\n"
     ]
    },
    {
     "data": {
      "application/vnd.jupyter.widget-view+json": {
       "model_id": "07be014e3e744dc8b3b2a55d64ab8a6e",
       "version_major": 2,
       "version_minor": 0
      },
      "text/plain": [
       "HBox(children=(FloatProgress(value=0.0, max=21388428.0), HTML(value='')))"
      ]
     },
     "metadata": {
      "tags": []
     },
     "output_type": "display_data"
    },
    {
     "name": "stdout",
     "output_type": "stream",
     "text": [
      "\n",
      "Loaded pretrained weights for efficientnet-b0\n"
     ]
    }
   ],
   "source": [
    "from efficientnet_pytorch import EfficientNet\n",
    "net = EfficientNet.from_pretrained('efficientnet-b0')"
   ]
  },
  {
   "cell_type": "code",
   "execution_count": null,
   "metadata": {
    "colab": {
     "base_uri": "https://localhost:8080/"
    },
    "executionInfo": {
     "elapsed": 600,
     "status": "ok",
     "timestamp": 1607046421224,
     "user": {
      "displayName": "土屋遼",
      "photoUrl": "",
      "userId": "01229349598003176930"
     },
     "user_tz": -540
    },
    "id": "A7QfbDIWkiuS",
    "outputId": "9634d0c1-e68b-49b3-be91-2a863d4792ad"
   },
   "outputs": [
    {
     "name": "stdout",
     "output_type": "stream",
     "text": [
      "modified: Linear(in_features=1280, out_features=2, bias=True)\n"
     ]
    }
   ],
   "source": [
    "# change ouput nodes 1000 --> 2\n",
    "net._fc = nn.Linear(1280, 2)\n",
    "print(\"modified:\", net._fc)"
   ]
  },
  {
   "cell_type": "code",
   "execution_count": null,
   "metadata": {
    "colab": {
     "base_uri": "https://localhost:8080/"
    },
    "executionInfo": {
     "elapsed": 604,
     "status": "ok",
     "timestamp": 1607046428586,
     "user": {
      "displayName": "土屋遼",
      "photoUrl": "",
      "userId": "01229349598003176930"
     },
     "user_tz": -540
    },
    "id": "wf4MJ4WofNGH",
    "outputId": "a9ab0515-42c3-46f2-8924-d0724a8f6e81"
   },
   "outputs": [
    {
     "name": "stdout",
     "output_type": "stream",
     "text": [
      "torch.Size([2, 1280])\n",
      "torch.Size([2])\n"
     ]
    }
   ],
   "source": [
    "print(net._fc.weight.size())\n",
    "print(net._fc.bias.size())"
   ]
  },
  {
   "cell_type": "markdown",
   "metadata": {
    "id": "tikk7Vic_PSZ"
   },
   "source": [
    "#### Loss Function"
   ]
  },
  {
   "cell_type": "code",
   "execution_count": null,
   "metadata": {
    "id": "DhDpzgFzkk__"
   },
   "outputs": [],
   "source": [
    "criterion = nn.BCEWithLogitsLoss()"
   ]
  },
  {
   "cell_type": "code",
   "execution_count": null,
   "metadata": {
    "colab": {
     "base_uri": "https://localhost:8080/"
    },
    "executionInfo": {
     "elapsed": 633,
     "status": "ok",
     "timestamp": 1607046435936,
     "user": {
      "displayName": "土屋遼",
      "photoUrl": "",
      "userId": "01229349598003176930"
     },
     "user_tz": -540
    },
    "id": "YKxfSEsCnpN6",
    "outputId": "8ded0452-9960-4b7f-8b5a-b55d7ef75a74"
   },
   "outputs": [
    {
     "name": "stdout",
     "output_type": "stream",
     "text": [
      "<generator object Module.named_parameters at 0x7f6e1ca6fe60>\n",
      "_fc.weight\n",
      "_fc.bias\n",
      "[Parameter containing:\n",
      "tensor([[-0.0111, -0.0073,  0.0035,  ..., -0.0197,  0.0257,  0.0044],\n",
      "        [ 0.0067,  0.0056, -0.0103,  ..., -0.0265, -0.0170, -0.0002]],\n",
      "       requires_grad=True), Parameter containing:\n",
      "tensor([0.0029, 0.0172], requires_grad=True)]\n"
     ]
    }
   ],
   "source": [
    "params_to_update = []\n",
    "update_param_names = [\"_fc.weight\", \"_fc.bias\"]\n",
    "print(net.named_parameters())\n",
    "# net._fc.bias.size()\n",
    "for name, param in net.named_parameters():\n",
    "  if name in update_param_names:\n",
    "    param.requires_grad = True\n",
    "    params_to_update.append(param)\n",
    "    print(name)\n",
    "  else:\n",
    "    param.requires_grad = False\n",
    "\n",
    "print(params_to_update)\n"
   ]
  },
  {
   "cell_type": "markdown",
   "metadata": {
    "id": "NYyUy2T-_Lx2"
   },
   "source": [
    "#### Optimizer"
   ]
  },
  {
   "cell_type": "code",
   "execution_count": null,
   "metadata": {
    "id": "NF_gXLIcoLOR"
   },
   "outputs": [],
   "source": [
    "optimizer = optim.SGD(params=params_to_update, lr=0.0005, momentum=0.9) #params=params_to_update)"
   ]
  },
  {
   "cell_type": "markdown",
   "metadata": {
    "id": "PdO07Bfj_JL3"
   },
   "source": [
    "#### Training (redundant)"
   ]
  },
  {
   "cell_type": "code",
   "execution_count": null,
   "metadata": {
    "id": "y6hBU3QIKW5N"
   },
   "outputs": [],
   "source": [
    "record_loss_train = []\n",
    "record_loss_test = []\n",
    "record_acc_train = []\n",
    "record_acc_test = []\n",
    "\n",
    "def calc_acc(pred, label):\n",
    "  return pred.eq(label).sum().numpy()/len(pred)\n",
    "\n",
    "def training(net, dataloaders_dict, criterion, optimizer, num_epochs):\n",
    "  net.to(\"cuda:0\")\n",
    "  for epoch in range(num_epochs):\n",
    "    print(\"Epoch {}/{}\".format(epoch+1, num_epochs))\n",
    "    print(\"-----------------\")\n",
    "    # train\n",
    "    net.train()\n",
    "    # volatile = False\n",
    "    loss_train = 0.0\n",
    "\n",
    "    for j, (inputs, labels) in enumerate(dataloaders_dict[\"train\"]):\n",
    "      inputs, labels = inputs.cuda(), labels.cuda()\n",
    "      outputs = net(inputs)\n",
    "      loss = criterion(outputs, labels)\n",
    "      loss_train += loss.item()\n",
    "      predictions = torch.round(nn.Sigmoid()(outputs))\n",
    "      acc_list = []\n",
    "      for j, row in enumerate(predictions):\n",
    "        acc = calc_acc(torch.Tensor.cpu(row), torch.Tensor.cpu(labels[j]))\n",
    "        acc_list.append(acc)\n",
    "      optimizer.zero_grad()\n",
    "      loss.backward()\n",
    "      optimizer.step()\n",
    "    loss_train /= j+1\n",
    "    acc_train = np.asarray(acc_list).mean()\n",
    "    record_loss_train.append(loss_train)\n",
    "    record_acc_train.append(acc_train)\n",
    "\n",
    "    # eval\n",
    "    net.eval()\n",
    "    # volatile = True\n",
    "    loss_test = 0.0\n",
    "    \n",
    "    for j, (inputs_test, labels_test) in enumerate(dataloaders_dict[\"val\"]):\n",
    "      inputs_test, labels_test = inputs_test.cuda(), labels_test.cuda()\n",
    "      outputs_test = net(inputs_test)\n",
    "      loss = criterion(outputs_test, labels_test)\n",
    "      loss_test += loss.item()\n",
    "      predictions_test = torch.round(nn.Sigmoid()(outputs_test))\n",
    "      acc_list_test = []\n",
    "      for j, row in enumerate(predictions_test):\n",
    "        acc_t = calc_acc(torch.Tensor.cpu(row), torch.Tensor.cpu(labels[j]))\n",
    "        acc_list_test.append(acc_t)\n",
    "    loss_test /= j+1\n",
    "    acc_test = np.asarray(acc_list_test).mean()\n",
    "    record_loss_test.append(loss_train)\n",
    "    record_acc_test.append(acc_train)\n",
    "\n",
    "    if epoch%1 == 0:\n",
    "      print(\"Epoch:\", epoch+1, \"\\n\", \"Loss_Train:\", loss_train, \"Loss_Test:\", loss_test, \"\\n\",\\\n",
    "            \"Acc_Train:\", acc_train, \"Acc_Test:\", acc_test)\n"
   ]
  },
  {
   "cell_type": "markdown",
   "metadata": {
    "id": "Y-SEtQ4V_DQC"
   },
   "source": [
    "#### Train\n",
    "Train and test accuracy are approx 0.7 to 0.8 (unstable learning)"
   ]
  },
  {
   "cell_type": "code",
   "execution_count": null,
   "metadata": {
    "colab": {
     "base_uri": "https://localhost:8080/"
    },
    "executionInfo": {
     "elapsed": 1112120,
     "status": "ok",
     "timestamp": 1607047567127,
     "user": {
      "displayName": "土屋遼",
      "photoUrl": "",
      "userId": "01229349598003176930"
     },
     "user_tz": -540
    },
    "id": "y_8v9uZ7tXmy",
    "outputId": "6b4704d5-6c2d-4408-d8f8-56052fa28c74"
   },
   "outputs": [],
   "source": [
    "num_epochs = 100\n",
    "\n",
    "training(net, dataloaders_dict, criterion, optimizer, num_epochs=num_epochs)"
   ]
  },
  {
   "cell_type": "markdown",
   "metadata": {},
   "source": [
    "#### Save Parameters"
   ]
  },
  {
   "cell_type": "code",
   "execution_count": null,
   "metadata": {
    "id": "IIKEDua3zUWT"
   },
   "outputs": [],
   "source": [
    "torch.save(net.state_dict(), \"/content/drive/MyDrive/efficient1204.pth\")"
   ]
  }
 ],
 "metadata": {
  "accelerator": "GPU",
  "colab": {
   "collapsed_sections": [],
   "name": "efficient_fine_tuning.ipynb",
   "provenance": []
  },
  "kernelspec": {
   "display_name": "Python 3",
   "language": "python",
   "name": "python3"
  },
  "language_info": {
   "codemirror_mode": {
    "name": "ipython",
    "version": 3
   },
   "file_extension": ".py",
   "mimetype": "text/x-python",
   "name": "python",
   "nbconvert_exporter": "python",
   "pygments_lexer": "ipython3",
   "version": "3.7.7"
  },
  "widgets": {
   "application/vnd.jupyter.widget-state+json": {
    "07be014e3e744dc8b3b2a55d64ab8a6e": {
     "model_module": "@jupyter-widgets/controls",
     "model_name": "HBoxModel",
     "state": {
      "_dom_classes": [],
      "_model_module": "@jupyter-widgets/controls",
      "_model_module_version": "1.5.0",
      "_model_name": "HBoxModel",
      "_view_count": null,
      "_view_module": "@jupyter-widgets/controls",
      "_view_module_version": "1.5.0",
      "_view_name": "HBoxView",
      "box_style": "",
      "children": [
       "IPY_MODEL_a5581cf4d60a41f3a87fb29068dab284",
       "IPY_MODEL_bb13388ea0d74647901df07cdf81c46b"
      ],
      "layout": "IPY_MODEL_cba19a3c44874b54bd00cd9c142e8a1c"
     }
    },
    "0f8a1133009c41d3820d713651051870": {
     "model_module": "@jupyter-widgets/base",
     "model_name": "LayoutModel",
     "state": {
      "_model_module": "@jupyter-widgets/base",
      "_model_module_version": "1.2.0",
      "_model_name": "LayoutModel",
      "_view_count": null,
      "_view_module": "@jupyter-widgets/base",
      "_view_module_version": "1.2.0",
      "_view_name": "LayoutView",
      "align_content": null,
      "align_items": null,
      "align_self": null,
      "border": null,
      "bottom": null,
      "display": null,
      "flex": null,
      "flex_flow": null,
      "grid_area": null,
      "grid_auto_columns": null,
      "grid_auto_flow": null,
      "grid_auto_rows": null,
      "grid_column": null,
      "grid_gap": null,
      "grid_row": null,
      "grid_template_areas": null,
      "grid_template_columns": null,
      "grid_template_rows": null,
      "height": null,
      "justify_content": null,
      "justify_items": null,
      "left": null,
      "margin": null,
      "max_height": null,
      "max_width": null,
      "min_height": null,
      "min_width": null,
      "object_fit": null,
      "object_position": null,
      "order": null,
      "overflow": null,
      "overflow_x": null,
      "overflow_y": null,
      "padding": null,
      "right": null,
      "top": null,
      "visibility": null,
      "width": null
     }
    },
    "2122ef9117e244ef978ec95a64be834a": {
     "model_module": "@jupyter-widgets/base",
     "model_name": "LayoutModel",
     "state": {
      "_model_module": "@jupyter-widgets/base",
      "_model_module_version": "1.2.0",
      "_model_name": "LayoutModel",
      "_view_count": null,
      "_view_module": "@jupyter-widgets/base",
      "_view_module_version": "1.2.0",
      "_view_name": "LayoutView",
      "align_content": null,
      "align_items": null,
      "align_self": null,
      "border": null,
      "bottom": null,
      "display": null,
      "flex": null,
      "flex_flow": null,
      "grid_area": null,
      "grid_auto_columns": null,
      "grid_auto_flow": null,
      "grid_auto_rows": null,
      "grid_column": null,
      "grid_gap": null,
      "grid_row": null,
      "grid_template_areas": null,
      "grid_template_columns": null,
      "grid_template_rows": null,
      "height": null,
      "justify_content": null,
      "justify_items": null,
      "left": null,
      "margin": null,
      "max_height": null,
      "max_width": null,
      "min_height": null,
      "min_width": null,
      "object_fit": null,
      "object_position": null,
      "order": null,
      "overflow": null,
      "overflow_x": null,
      "overflow_y": null,
      "padding": null,
      "right": null,
      "top": null,
      "visibility": null,
      "width": null
     }
    },
    "4a84d9a201c04f12909ed651e8455108": {
     "model_module": "@jupyter-widgets/base",
     "model_name": "LayoutModel",
     "state": {
      "_model_module": "@jupyter-widgets/base",
      "_model_module_version": "1.2.0",
      "_model_name": "LayoutModel",
      "_view_count": null,
      "_view_module": "@jupyter-widgets/base",
      "_view_module_version": "1.2.0",
      "_view_name": "LayoutView",
      "align_content": null,
      "align_items": null,
      "align_self": null,
      "border": null,
      "bottom": null,
      "display": null,
      "flex": null,
      "flex_flow": null,
      "grid_area": null,
      "grid_auto_columns": null,
      "grid_auto_flow": null,
      "grid_auto_rows": null,
      "grid_column": null,
      "grid_gap": null,
      "grid_row": null,
      "grid_template_areas": null,
      "grid_template_columns": null,
      "grid_template_rows": null,
      "height": null,
      "justify_content": null,
      "justify_items": null,
      "left": null,
      "margin": null,
      "max_height": null,
      "max_width": null,
      "min_height": null,
      "min_width": null,
      "object_fit": null,
      "object_position": null,
      "order": null,
      "overflow": null,
      "overflow_x": null,
      "overflow_y": null,
      "padding": null,
      "right": null,
      "top": null,
      "visibility": null,
      "width": null
     }
    },
    "4d64db1858d64eb8ae17de1cc310bd4f": {
     "model_module": "@jupyter-widgets/base",
     "model_name": "LayoutModel",
     "state": {
      "_model_module": "@jupyter-widgets/base",
      "_model_module_version": "1.2.0",
      "_model_name": "LayoutModel",
      "_view_count": null,
      "_view_module": "@jupyter-widgets/base",
      "_view_module_version": "1.2.0",
      "_view_name": "LayoutView",
      "align_content": null,
      "align_items": null,
      "align_self": null,
      "border": null,
      "bottom": null,
      "display": null,
      "flex": null,
      "flex_flow": null,
      "grid_area": null,
      "grid_auto_columns": null,
      "grid_auto_flow": null,
      "grid_auto_rows": null,
      "grid_column": null,
      "grid_gap": null,
      "grid_row": null,
      "grid_template_areas": null,
      "grid_template_columns": null,
      "grid_template_rows": null,
      "height": null,
      "justify_content": null,
      "justify_items": null,
      "left": null,
      "margin": null,
      "max_height": null,
      "max_width": null,
      "min_height": null,
      "min_width": null,
      "object_fit": null,
      "object_position": null,
      "order": null,
      "overflow": null,
      "overflow_x": null,
      "overflow_y": null,
      "padding": null,
      "right": null,
      "top": null,
      "visibility": null,
      "width": null
     }
    },
    "5765994fcfa047adb21123fb6e47ae61": {
     "model_module": "@jupyter-widgets/controls",
     "model_name": "FloatProgressModel",
     "state": {
      "_dom_classes": [],
      "_model_module": "@jupyter-widgets/controls",
      "_model_module_version": "1.5.0",
      "_model_name": "FloatProgressModel",
      "_view_count": null,
      "_view_module": "@jupyter-widgets/controls",
      "_view_module_version": "1.5.0",
      "_view_name": "ProgressView",
      "bar_style": "success",
      "description": "100%",
      "description_tooltip": null,
      "layout": "IPY_MODEL_2122ef9117e244ef978ec95a64be834a",
      "max": 21388428,
      "min": 0,
      "orientation": "horizontal",
      "style": "IPY_MODEL_deb3f0af9bcb418a846e0e45fe1d091c",
      "value": 21388428
     }
    },
    "772eb36e95d2493498ad2728ee419b49": {
     "model_module": "@jupyter-widgets/controls",
     "model_name": "DescriptionStyleModel",
     "state": {
      "_model_module": "@jupyter-widgets/controls",
      "_model_module_version": "1.5.0",
      "_model_name": "DescriptionStyleModel",
      "_view_count": null,
      "_view_module": "@jupyter-widgets/base",
      "_view_module_version": "1.2.0",
      "_view_name": "StyleView",
      "description_width": ""
     }
    },
    "8a6ce266a5034aa08a35f4d5c3e05446": {
     "model_module": "@jupyter-widgets/controls",
     "model_name": "HTMLModel",
     "state": {
      "_dom_classes": [],
      "_model_module": "@jupyter-widgets/controls",
      "_model_module_version": "1.5.0",
      "_model_name": "HTMLModel",
      "_view_count": null,
      "_view_module": "@jupyter-widgets/controls",
      "_view_module_version": "1.5.0",
      "_view_name": "HTMLView",
      "description": "",
      "description_tooltip": null,
      "layout": "IPY_MODEL_0f8a1133009c41d3820d713651051870",
      "placeholder": "​",
      "style": "IPY_MODEL_772eb36e95d2493498ad2728ee419b49",
      "value": " 20.4M/20.4M [00:00&lt;00:00, 46.3MB/s]"
     }
    },
    "99e734d819be48ad877c6c8a8255cf65": {
     "model_module": "@jupyter-widgets/controls",
     "model_name": "HBoxModel",
     "state": {
      "_dom_classes": [],
      "_model_module": "@jupyter-widgets/controls",
      "_model_module_version": "1.5.0",
      "_model_name": "HBoxModel",
      "_view_count": null,
      "_view_module": "@jupyter-widgets/controls",
      "_view_module_version": "1.5.0",
      "_view_name": "HBoxView",
      "box_style": "",
      "children": [
       "IPY_MODEL_5765994fcfa047adb21123fb6e47ae61",
       "IPY_MODEL_8a6ce266a5034aa08a35f4d5c3e05446"
      ],
      "layout": "IPY_MODEL_c39580fc7c484836bee5ee7d7179ab2a"
     }
    },
    "a5581cf4d60a41f3a87fb29068dab284": {
     "model_module": "@jupyter-widgets/controls",
     "model_name": "FloatProgressModel",
     "state": {
      "_dom_classes": [],
      "_model_module": "@jupyter-widgets/controls",
      "_model_module_version": "1.5.0",
      "_model_name": "FloatProgressModel",
      "_view_count": null,
      "_view_module": "@jupyter-widgets/controls",
      "_view_module_version": "1.5.0",
      "_view_name": "ProgressView",
      "bar_style": "success",
      "description": "100%",
      "description_tooltip": null,
      "layout": "IPY_MODEL_4a84d9a201c04f12909ed651e8455108",
      "max": 21388428,
      "min": 0,
      "orientation": "horizontal",
      "style": "IPY_MODEL_f35f119046644d4fa017e806d95f225a",
      "value": 21388428
     }
    },
    "bb13388ea0d74647901df07cdf81c46b": {
     "model_module": "@jupyter-widgets/controls",
     "model_name": "HTMLModel",
     "state": {
      "_dom_classes": [],
      "_model_module": "@jupyter-widgets/controls",
      "_model_module_version": "1.5.0",
      "_model_name": "HTMLModel",
      "_view_count": null,
      "_view_module": "@jupyter-widgets/controls",
      "_view_module_version": "1.5.0",
      "_view_name": "HTMLView",
      "description": "",
      "description_tooltip": null,
      "layout": "IPY_MODEL_4d64db1858d64eb8ae17de1cc310bd4f",
      "placeholder": "​",
      "style": "IPY_MODEL_fd842317180c40f9936761478dfa7dd3",
      "value": " 20.4M/20.4M [19:16&lt;00:00, 18.5kB/s]"
     }
    },
    "c39580fc7c484836bee5ee7d7179ab2a": {
     "model_module": "@jupyter-widgets/base",
     "model_name": "LayoutModel",
     "state": {
      "_model_module": "@jupyter-widgets/base",
      "_model_module_version": "1.2.0",
      "_model_name": "LayoutModel",
      "_view_count": null,
      "_view_module": "@jupyter-widgets/base",
      "_view_module_version": "1.2.0",
      "_view_name": "LayoutView",
      "align_content": null,
      "align_items": null,
      "align_self": null,
      "border": null,
      "bottom": null,
      "display": null,
      "flex": null,
      "flex_flow": null,
      "grid_area": null,
      "grid_auto_columns": null,
      "grid_auto_flow": null,
      "grid_auto_rows": null,
      "grid_column": null,
      "grid_gap": null,
      "grid_row": null,
      "grid_template_areas": null,
      "grid_template_columns": null,
      "grid_template_rows": null,
      "height": null,
      "justify_content": null,
      "justify_items": null,
      "left": null,
      "margin": null,
      "max_height": null,
      "max_width": null,
      "min_height": null,
      "min_width": null,
      "object_fit": null,
      "object_position": null,
      "order": null,
      "overflow": null,
      "overflow_x": null,
      "overflow_y": null,
      "padding": null,
      "right": null,
      "top": null,
      "visibility": null,
      "width": null
     }
    },
    "cba19a3c44874b54bd00cd9c142e8a1c": {
     "model_module": "@jupyter-widgets/base",
     "model_name": "LayoutModel",
     "state": {
      "_model_module": "@jupyter-widgets/base",
      "_model_module_version": "1.2.0",
      "_model_name": "LayoutModel",
      "_view_count": null,
      "_view_module": "@jupyter-widgets/base",
      "_view_module_version": "1.2.0",
      "_view_name": "LayoutView",
      "align_content": null,
      "align_items": null,
      "align_self": null,
      "border": null,
      "bottom": null,
      "display": null,
      "flex": null,
      "flex_flow": null,
      "grid_area": null,
      "grid_auto_columns": null,
      "grid_auto_flow": null,
      "grid_auto_rows": null,
      "grid_column": null,
      "grid_gap": null,
      "grid_row": null,
      "grid_template_areas": null,
      "grid_template_columns": null,
      "grid_template_rows": null,
      "height": null,
      "justify_content": null,
      "justify_items": null,
      "left": null,
      "margin": null,
      "max_height": null,
      "max_width": null,
      "min_height": null,
      "min_width": null,
      "object_fit": null,
      "object_position": null,
      "order": null,
      "overflow": null,
      "overflow_x": null,
      "overflow_y": null,
      "padding": null,
      "right": null,
      "top": null,
      "visibility": null,
      "width": null
     }
    },
    "deb3f0af9bcb418a846e0e45fe1d091c": {
     "model_module": "@jupyter-widgets/controls",
     "model_name": "ProgressStyleModel",
     "state": {
      "_model_module": "@jupyter-widgets/controls",
      "_model_module_version": "1.5.0",
      "_model_name": "ProgressStyleModel",
      "_view_count": null,
      "_view_module": "@jupyter-widgets/base",
      "_view_module_version": "1.2.0",
      "_view_name": "StyleView",
      "bar_color": null,
      "description_width": "initial"
     }
    },
    "f35f119046644d4fa017e806d95f225a": {
     "model_module": "@jupyter-widgets/controls",
     "model_name": "ProgressStyleModel",
     "state": {
      "_model_module": "@jupyter-widgets/controls",
      "_model_module_version": "1.5.0",
      "_model_name": "ProgressStyleModel",
      "_view_count": null,
      "_view_module": "@jupyter-widgets/base",
      "_view_module_version": "1.2.0",
      "_view_name": "StyleView",
      "bar_color": null,
      "description_width": "initial"
     }
    },
    "fd842317180c40f9936761478dfa7dd3": {
     "model_module": "@jupyter-widgets/controls",
     "model_name": "DescriptionStyleModel",
     "state": {
      "_model_module": "@jupyter-widgets/controls",
      "_model_module_version": "1.5.0",
      "_model_name": "DescriptionStyleModel",
      "_view_count": null,
      "_view_module": "@jupyter-widgets/base",
      "_view_module_version": "1.2.0",
      "_view_name": "StyleView",
      "description_width": ""
     }
    }
   }
  }
 },
 "nbformat": 4,
 "nbformat_minor": 1
}
