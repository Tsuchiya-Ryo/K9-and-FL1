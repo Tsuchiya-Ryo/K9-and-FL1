{
  "nbformat": 4,
  "nbformat_minor": 0,
  "metadata": {
    "colab": {
      "name": "Transfer_learning_20201204",
      "provenance": [],
      "collapsed_sections": []
    },
    "kernelspec": {
      "name": "python3",
      "display_name": "Python 3"
    },
    "accelerator": "GPU",
    "widgets": {
      "application/vnd.jupyter.widget-state+json": {
        "4646387ab0e7461d866c933ba2560a57": {
          "model_module": "@jupyter-widgets/controls",
          "model_name": "HBoxModel",
          "state": {
            "_view_name": "HBoxView",
            "_dom_classes": [],
            "_model_name": "HBoxModel",
            "_view_module": "@jupyter-widgets/controls",
            "_model_module_version": "1.5.0",
            "_view_count": null,
            "_view_module_version": "1.5.0",
            "box_style": "",
            "layout": "IPY_MODEL_1b3143fadb1a47069335e3ef822e72f4",
            "_model_module": "@jupyter-widgets/controls",
            "children": [
              "IPY_MODEL_b78113b501284743938a9737d2c1b9f7",
              "IPY_MODEL_b3dc0df37b594374bcd379c22bae1adf"
            ]
          }
        },
        "1b3143fadb1a47069335e3ef822e72f4": {
          "model_module": "@jupyter-widgets/base",
          "model_name": "LayoutModel",
          "state": {
            "_view_name": "LayoutView",
            "grid_template_rows": null,
            "right": null,
            "justify_content": null,
            "_view_module": "@jupyter-widgets/base",
            "overflow": null,
            "_model_module_version": "1.2.0",
            "_view_count": null,
            "flex_flow": null,
            "width": null,
            "min_width": null,
            "border": null,
            "align_items": null,
            "bottom": null,
            "_model_module": "@jupyter-widgets/base",
            "top": null,
            "grid_column": null,
            "overflow_y": null,
            "overflow_x": null,
            "grid_auto_flow": null,
            "grid_area": null,
            "grid_template_columns": null,
            "flex": null,
            "_model_name": "LayoutModel",
            "justify_items": null,
            "grid_row": null,
            "max_height": null,
            "align_content": null,
            "visibility": null,
            "align_self": null,
            "height": null,
            "min_height": null,
            "padding": null,
            "grid_auto_rows": null,
            "grid_gap": null,
            "max_width": null,
            "order": null,
            "_view_module_version": "1.2.0",
            "grid_template_areas": null,
            "object_position": null,
            "object_fit": null,
            "grid_auto_columns": null,
            "margin": null,
            "display": null,
            "left": null
          }
        },
        "b78113b501284743938a9737d2c1b9f7": {
          "model_module": "@jupyter-widgets/controls",
          "model_name": "FloatProgressModel",
          "state": {
            "_view_name": "ProgressView",
            "style": "IPY_MODEL_078395f6abf240a886fbb832c0eaf95d",
            "_dom_classes": [],
            "description": "100%",
            "_model_name": "FloatProgressModel",
            "bar_style": "success",
            "max": 21388428,
            "_view_module": "@jupyter-widgets/controls",
            "_model_module_version": "1.5.0",
            "value": 21388428,
            "_view_count": null,
            "_view_module_version": "1.5.0",
            "orientation": "horizontal",
            "min": 0,
            "description_tooltip": null,
            "_model_module": "@jupyter-widgets/controls",
            "layout": "IPY_MODEL_d94b750782984958ac5d12b8a1f1dfa5"
          }
        },
        "b3dc0df37b594374bcd379c22bae1adf": {
          "model_module": "@jupyter-widgets/controls",
          "model_name": "HTMLModel",
          "state": {
            "_view_name": "HTMLView",
            "style": "IPY_MODEL_02992a36ea194ba4a4821e1183897197",
            "_dom_classes": [],
            "description": "",
            "_model_name": "HTMLModel",
            "placeholder": "​",
            "_view_module": "@jupyter-widgets/controls",
            "_model_module_version": "1.5.0",
            "value": " 20.4M/20.4M [00:00&lt;00:00, 117MB/s]",
            "_view_count": null,
            "_view_module_version": "1.5.0",
            "description_tooltip": null,
            "_model_module": "@jupyter-widgets/controls",
            "layout": "IPY_MODEL_54077cb5c84245d2ba2ef9d96613960e"
          }
        },
        "078395f6abf240a886fbb832c0eaf95d": {
          "model_module": "@jupyter-widgets/controls",
          "model_name": "ProgressStyleModel",
          "state": {
            "_view_name": "StyleView",
            "_model_name": "ProgressStyleModel",
            "description_width": "initial",
            "_view_module": "@jupyter-widgets/base",
            "_model_module_version": "1.5.0",
            "_view_count": null,
            "_view_module_version": "1.2.0",
            "bar_color": null,
            "_model_module": "@jupyter-widgets/controls"
          }
        },
        "d94b750782984958ac5d12b8a1f1dfa5": {
          "model_module": "@jupyter-widgets/base",
          "model_name": "LayoutModel",
          "state": {
            "_view_name": "LayoutView",
            "grid_template_rows": null,
            "right": null,
            "justify_content": null,
            "_view_module": "@jupyter-widgets/base",
            "overflow": null,
            "_model_module_version": "1.2.0",
            "_view_count": null,
            "flex_flow": null,
            "width": null,
            "min_width": null,
            "border": null,
            "align_items": null,
            "bottom": null,
            "_model_module": "@jupyter-widgets/base",
            "top": null,
            "grid_column": null,
            "overflow_y": null,
            "overflow_x": null,
            "grid_auto_flow": null,
            "grid_area": null,
            "grid_template_columns": null,
            "flex": null,
            "_model_name": "LayoutModel",
            "justify_items": null,
            "grid_row": null,
            "max_height": null,
            "align_content": null,
            "visibility": null,
            "align_self": null,
            "height": null,
            "min_height": null,
            "padding": null,
            "grid_auto_rows": null,
            "grid_gap": null,
            "max_width": null,
            "order": null,
            "_view_module_version": "1.2.0",
            "grid_template_areas": null,
            "object_position": null,
            "object_fit": null,
            "grid_auto_columns": null,
            "margin": null,
            "display": null,
            "left": null
          }
        },
        "02992a36ea194ba4a4821e1183897197": {
          "model_module": "@jupyter-widgets/controls",
          "model_name": "DescriptionStyleModel",
          "state": {
            "_view_name": "StyleView",
            "_model_name": "DescriptionStyleModel",
            "description_width": "",
            "_view_module": "@jupyter-widgets/base",
            "_model_module_version": "1.5.0",
            "_view_count": null,
            "_view_module_version": "1.2.0",
            "_model_module": "@jupyter-widgets/controls"
          }
        },
        "54077cb5c84245d2ba2ef9d96613960e": {
          "model_module": "@jupyter-widgets/base",
          "model_name": "LayoutModel",
          "state": {
            "_view_name": "LayoutView",
            "grid_template_rows": null,
            "right": null,
            "justify_content": null,
            "_view_module": "@jupyter-widgets/base",
            "overflow": null,
            "_model_module_version": "1.2.0",
            "_view_count": null,
            "flex_flow": null,
            "width": null,
            "min_width": null,
            "border": null,
            "align_items": null,
            "bottom": null,
            "_model_module": "@jupyter-widgets/base",
            "top": null,
            "grid_column": null,
            "overflow_y": null,
            "overflow_x": null,
            "grid_auto_flow": null,
            "grid_area": null,
            "grid_template_columns": null,
            "flex": null,
            "_model_name": "LayoutModel",
            "justify_items": null,
            "grid_row": null,
            "max_height": null,
            "align_content": null,
            "visibility": null,
            "align_self": null,
            "height": null,
            "min_height": null,
            "padding": null,
            "grid_auto_rows": null,
            "grid_gap": null,
            "max_width": null,
            "order": null,
            "_view_module_version": "1.2.0",
            "grid_template_areas": null,
            "object_position": null,
            "object_fit": null,
            "grid_auto_columns": null,
            "margin": null,
            "display": null,
            "left": null
          }
        }
      }
    }
  },
  "cells": [
    {
      "cell_type": "markdown",
      "metadata": {
        "id": "lU7QIPqVhJfH"
      },
      "source": [
        "## Developed on GoogleColab\r\n"
      ]
    },
    {
      "cell_type": "code",
      "metadata": {
        "colab": {
          "base_uri": "https://localhost:8080/"
        },
        "id": "R2xp2cKqV5mB",
        "outputId": "33f372aa-a4bf-4e6d-84fa-d352c30afc87"
      },
      "source": [
        "from google.colab import drive \n",
        "drive.mount('/content/drive', force_remount=True)\n"
      ],
      "execution_count": null,
      "outputs": [
        {
          "output_type": "stream",
          "text": [
            "Mounted at /content/drive\n"
          ],
          "name": "stdout"
        }
      ]
    },
    {
      "cell_type": "markdown",
      "metadata": {
        "id": "7kGIp70chHcf"
      },
      "source": [
        "### Transfer learning\r\n",
        "**import and set seeds**"
      ]
    },
    {
      "cell_type": "code",
      "metadata": {
        "id": "hoaOLr7MhAjB"
      },
      "source": [
        "# 転移学習の実装\n",
        "\n",
        "import glob\n",
        "import os.path as osp\n",
        "import random\n",
        "import numpy as np\n",
        "from PIL import Image\n",
        "import matplotlib.pyplot as plt\n",
        "%matplotlib inline\n",
        "\n",
        "import torch\n",
        "import torch.nn as nn\n",
        "import torch.optim as optim\n",
        "import torch.utils.data as data\n",
        "import torchvision\n",
        "from torchvision import models, transforms\n",
        "from torch.utils.data import DataLoader\n",
        "\n",
        "torch.manual_seed(0)\n",
        "np.random.seed(0)\n",
        "random.seed(0)"
      ],
      "execution_count": null,
      "outputs": []
    },
    {
      "cell_type": "markdown",
      "metadata": {
        "id": "c1aViuwbhc88"
      },
      "source": [
        "**preprocessing class**"
      ]
    },
    {
      "cell_type": "code",
      "metadata": {
        "id": "rzbMdk0qkBCx"
      },
      "source": [
        "resize = 224\n",
        "mean = (0.485, 0.456, 0.406)\n",
        "std = (0.229, 0.224, 0.22)\n",
        "\n",
        "class ImageTransform():\n",
        "  \n",
        "  def __init__(self, resize, mean, std):\n",
        "    self.data_transform = {\n",
        "        \"train\": transforms.Compose([\n",
        "                                     transforms.RandomResizedCrop(\n",
        "                                         resize, scale=(0.5, 1.0)),\n",
        "                                     transforms.RandomHorizontalFlip(),\n",
        "                                     transforms.ToTensor(),\n",
        "                                     transforms.Normalize(mean, std)]),\n",
        "        \"val\": transforms.Compose([\n",
        "                                   transforms.Resize(resize),\n",
        "                                   transforms.CenterCrop(resize),\n",
        "                                   transforms.ToTensor(),\n",
        "                                   transforms.Normalize(mean, std)\n",
        "        ])\n",
        "    }\n",
        "  \n",
        "  def __call__(self, img, phase=\"train\"):\n",
        "    return self.data_transform[phase](img)"
      ],
      "execution_count": null,
      "outputs": []
    },
    {
      "cell_type": "markdown",
      "metadata": {
        "id": "h8V2q8GphoHi"
      },
      "source": [
        "**training and validation image path(redundant)**\\\r\n",
        "images are corrected by using Flickr api"
      ]
    },
    {
      "cell_type": "code",
      "metadata": {
        "id": "67rdzFvzlnph",
        "colab": {
          "base_uri": "https://localhost:8080/"
        },
        "outputId": "fd065be9-0c86-4a32-c242-b20d24d6237d"
      },
      "source": [
        "rootpath = \"/content/drive/MyDrive/Colab Notebooks/data/\"\n",
        "dog_target_path = osp.join(rootpath+\"dog/*.jpg\")\n",
        "cat_target_path = osp.join(rootpath+\"cat/*.jpg\")\n",
        "puppy_target_path = osp.join(rootpath+\"pup/*.jpg\")\n",
        "kitten_target_path = osp.join(rootpath+\"kit/*.jpg\")\n",
        "\n",
        "dog_list = []\n",
        "cat_list = []\n",
        "puppy_list = []\n",
        "kitten_list = []\n",
        "\n",
        "for path in glob.glob(dog_target_path):\n",
        "  dog_list.append(path)\n",
        "\n",
        "for path in glob.glob(cat_target_path):\n",
        "  cat_list.append(path)\n",
        "\n",
        "for path in glob.glob(puppy_target_path):\n",
        "  puppy_list.append(path)\n",
        "\n",
        "for path in glob.glob(kitten_target_path):\n",
        "  kitten_list.append(path)\n",
        "\n",
        "random.seed(0)\n",
        "for i in [dog_list, cat_list, puppy_list, kitten_list]:\n",
        "  random.shuffle(i)\n",
        "\n",
        "train_list = dog_list[:240] + cat_list[:240] + puppy_list[:240] + kitten_list[:240]\n",
        "val_list = dog_list[240:] + cat_list[240:] + puppy_list[240:] + kitten_list[240:]\n",
        "total_data = train_list + val_list\n",
        "print(len(dog_list), len(cat_list), len(puppy_list), len(kitten_list))\n",
        "print(len(train_list), len(val_list))\n",
        "print(len(total_data[:960]), len(total_data[960:]))"
      ],
      "execution_count": null,
      "outputs": [
        {
          "output_type": "stream",
          "text": [
            "350 345 350 350\n",
            "960 435\n",
            "960 435\n"
          ],
          "name": "stdout"
        }
      ]
    },
    {
      "cell_type": "code",
      "metadata": {
        "colab": {
          "base_uri": "https://localhost:8080/",
          "height": 269
        },
        "id": "rtiDPiShR0I0",
        "outputId": "dc2b644a-ef22-4042-f063-1c2c17d5b1c4"
      },
      "source": [
        "img_ = Image.open(puppy_list[23])\n",
        "plt.imshow(img_)\n",
        "plt.show()"
      ],
      "execution_count": null,
      "outputs": [
        {
          "output_type": "display_data",
          "data": {
            "image/png": "[encoded data removed]",
            "text/plain": [
              "<Figure size 432x288 with 1 Axes>"
            ]
          },
          "metadata": {
            "tags": [],
            "needs_background": "light"
          }
        }
      ]
    },
    {
      "cell_type": "code",
      "metadata": {
        "colab": {
          "base_uri": "https://localhost:8080/"
        },
        "id": "zG1TkD7ugZtM",
        "outputId": "800b150e-2aa9-42de-ff5b-d33f9b852048"
      },
      "source": [
        "print(total_data[611])\n",
        "print(total_data[611][44:47])"
      ],
      "execution_count": null,
      "outputs": [
        {
          "output_type": "stream",
          "text": [
            "/content/drive/MyDrive/Colab Notebooks/data/pup/531189149.jpg\n",
            "pup\n"
          ],
          "name": "stdout"
        }
      ]
    },
    {
      "cell_type": "markdown",
      "metadata": {
        "id": "nAmqLTvlh7Bb"
      },
      "source": [
        "**make dataset**"
      ]
    },
    {
      "cell_type": "code",
      "metadata": {
        "id": "vPBKlgUXSo7d"
      },
      "source": [
        "# make dataset\n",
        "class K9nF9(data.Dataset):\n",
        "  def __init__(self, file_list, transform=None, phase=\"train\"):\n",
        "    self.file_list = file_list\n",
        "    self.transform = transform\n",
        "    self.phase = phase\n",
        "\n",
        "  def __len__(self):\n",
        "    return len(self.file_list)\n",
        "\n",
        "  def __getitem__(self, index):\n",
        "\n",
        "    img_path = self.file_list[index]\n",
        "    img = Image.open(img_path)\n",
        "    if len(np.array(img).shape) != 3:\n",
        "      img = transforms.Grayscale(num_output_channels=3)(img)\n",
        "\n",
        "    img_transformed = self.transform(\n",
        "        img, self.phase)\n",
        "\n",
        "    \n",
        "    label = img_path[44:47]\n",
        "\n",
        "    if label == \"dog\":\n",
        "      label = torch.Tensor([0,0])\n",
        "    elif label == \"cat\":\n",
        "      label = torch.Tensor([1,0])\n",
        "    elif label == \"pup\":\n",
        "      label = torch.Tensor([0,1])\n",
        "    elif label == \"kit\":\n",
        "      label = torch.Tensor([1,1])\n",
        "    \n",
        "    return img_transformed, label"
      ],
      "execution_count": null,
      "outputs": []
    },
    {
      "cell_type": "code",
      "metadata": {
        "colab": {
          "base_uri": "https://localhost:8080/"
        },
        "id": "aV0FWkAshN4s",
        "outputId": "106bd8f7-930c-4d3d-8a3e-ee67b2563928"
      },
      "source": [
        "train_dataset = K9nF9(\n",
        "    file_list=train_list, transform=ImageTransform(resize, mean, std), phase=\"train\")\n",
        "val_dataset = K9nF9(\n",
        "    file_list=val_list, transform=ImageTransform(resize, mean, std), phase=\"val\")\n",
        "\n",
        "\n",
        "index = 32\n",
        "print(train_dataset.__getitem__(index)[0].size())\n",
        "print(train_dataset.__getitem__(index)[1])\n"
      ],
      "execution_count": null,
      "outputs": [
        {
          "output_type": "stream",
          "text": [
            "torch.Size([3, 224, 224])\n",
            "tensor([0., 0.])\n"
          ],
          "name": "stdout"
        }
      ]
    },
    {
      "cell_type": "markdown",
      "metadata": {
        "id": "-JiWf9Mt_YVI"
      },
      "source": [
        "**make dataloader**\n"
      ]
    },
    {
      "cell_type": "code",
      "metadata": {
        "colab": {
          "base_uri": "https://localhost:8080/"
        },
        "id": "BeKS0JDuiGop",
        "outputId": "c7c68f39-9528-488f-d611-2cdbc3be9083"
      },
      "source": [
        "batch_size = 32\n",
        "\n",
        "train_dataloader = DataLoader(\n",
        "    train_dataset, batch_size=batch_size, shuffle=True)\n",
        "val_dataloader = DataLoader(\n",
        "    val_dataset, batch_size=batch_size, shuffle=True)\n",
        "\n",
        "dataloaders_dict = {\"train\":train_dataloader,  \"val\":val_dataloader}\n",
        "\n",
        "batch_iterator = iter(dataloaders_dict[\"val\"])\n",
        "inputs, labels = next(batch_iterator)\n",
        "print(inputs.size())\n",
        "print(labels)"
      ],
      "execution_count": null,
      "outputs": [
        {
          "output_type": "stream",
          "text": [
            "torch.Size([32, 3, 224, 224])\n",
            "tensor([[0., 1.],\n",
            "        [1., 0.],\n",
            "        [0., 1.],\n",
            "        [0., 0.],\n",
            "        [0., 1.],\n",
            "        [1., 0.],\n",
            "        [1., 0.],\n",
            "        [0., 1.],\n",
            "        [0., 1.],\n",
            "        [0., 1.],\n",
            "        [0., 0.],\n",
            "        [1., 0.],\n",
            "        [0., 1.],\n",
            "        [0., 0.],\n",
            "        [1., 1.],\n",
            "        [0., 0.],\n",
            "        [0., 1.],\n",
            "        [1., 0.],\n",
            "        [0., 0.],\n",
            "        [1., 0.],\n",
            "        [1., 0.],\n",
            "        [1., 0.],\n",
            "        [0., 0.],\n",
            "        [0., 0.],\n",
            "        [1., 1.],\n",
            "        [0., 1.],\n",
            "        [1., 0.],\n",
            "        [1., 1.],\n",
            "        [0., 0.],\n",
            "        [1., 1.],\n",
            "        [1., 1.],\n",
            "        [0., 1.]])\n"
          ],
          "name": "stdout"
        }
      ]
    },
    {
      "cell_type": "markdown",
      "metadata": {
        "id": "z3SeKBk5_Shv"
      },
      "source": [
        "**install EfficientNet and Change output nodes**"
      ]
    },
    {
      "cell_type": "code",
      "metadata": {
        "colab": {
          "base_uri": "https://localhost:8080/"
        },
        "id": "gxvjm6dnjL01",
        "outputId": "35a5c4ff-0219-4fc2-d015-fbf20d78384d"
      },
      "source": [
        "!pip install efficientnet_pytorch"
      ],
      "execution_count": 1,
      "outputs": [
        {
          "output_type": "stream",
          "text": [
            "Collecting efficientnet_pytorch\n",
            "  Downloading https://files.pythonhosted.org/packages/4e/83/f9c5f44060f996279e474185ebcbd8dbd91179593bffb9abe3afa55d085b/efficientnet_pytorch-0.7.0.tar.gz\n",
            "Requirement already satisfied: torch in /usr/local/lib/python3.6/dist-packages (from efficientnet_pytorch) (1.7.0+cu101)\n",
            "Requirement already satisfied: typing-extensions in /usr/local/lib/python3.6/dist-packages (from torch->efficientnet_pytorch) (3.7.4.3)\n",
            "Requirement already satisfied: dataclasses in /usr/local/lib/python3.6/dist-packages (from torch->efficientnet_pytorch) (0.8)\n",
            "Requirement already satisfied: numpy in /usr/local/lib/python3.6/dist-packages (from torch->efficientnet_pytorch) (1.18.5)\n",
            "Requirement already satisfied: future in /usr/local/lib/python3.6/dist-packages (from torch->efficientnet_pytorch) (0.16.0)\n",
            "Building wheels for collected packages: efficientnet-pytorch\n",
            "  Building wheel for efficientnet-pytorch (setup.py) ... \u001b[?25l\u001b[?25hdone\n",
            "  Created wheel for efficientnet-pytorch: filename=efficientnet_pytorch-0.7.0-cp36-none-any.whl size=16030 sha256=d8b961b67c5c3a5857937958f2d6ec01df5dcc9d4b7035c98d08a851bc39ddb3\n",
            "  Stored in directory: /root/.cache/pip/wheels/e9/c6/e1/7a808b26406239712cfce4b5ceeb67d9513ae32aa4b31445c6\n",
            "Successfully built efficientnet-pytorch\n",
            "Installing collected packages: efficientnet-pytorch\n",
            "Successfully installed efficientnet-pytorch-0.7.0\n"
          ],
          "name": "stdout"
        }
      ]
    },
    {
      "cell_type": "code",
      "metadata": {
        "colab": {
          "base_uri": "https://localhost:8080/",
          "height": 124,
          "referenced_widgets": [
            "4646387ab0e7461d866c933ba2560a57",
            "1b3143fadb1a47069335e3ef822e72f4",
            "b78113b501284743938a9737d2c1b9f7",
            "b3dc0df37b594374bcd379c22bae1adf",
            "078395f6abf240a886fbb832c0eaf95d",
            "d94b750782984958ac5d12b8a1f1dfa5",
            "02992a36ea194ba4a4821e1183897197",
            "54077cb5c84245d2ba2ef9d96613960e"
          ]
        },
        "id": "HqcE9g_EkZDY",
        "outputId": "b7ca2bcc-e245-4a1e-d5a1-14cb2155a6ac"
      },
      "source": [
        "from efficientnet_pytorch import EfficientNet\n",
        "net = EfficientNet.from_pretrained('efficientnet-b0')"
      ],
      "execution_count": 2,
      "outputs": [
        {
          "output_type": "stream",
          "text": [
            "Downloading: \"https://github.com/lukemelas/EfficientNet-PyTorch/releases/download/1.0/efficientnet-b0-355c32eb.pth\" to /root/.cache/torch/hub/checkpoints/efficientnet-b0-355c32eb.pth\n"
          ],
          "name": "stderr"
        },
        {
          "output_type": "display_data",
          "data": {
            "application/vnd.jupyter.widget-view+json": {
              "model_id": "4646387ab0e7461d866c933ba2560a57",
              "version_minor": 0,
              "version_major": 2
            },
            "text/plain": [
              "HBox(children=(FloatProgress(value=0.0, max=21388428.0), HTML(value='')))"
            ]
          },
          "metadata": {
            "tags": []
          }
        },
        {
          "output_type": "stream",
          "text": [
            "\n",
            "Loaded pretrained weights for efficientnet-b0\n"
          ],
          "name": "stdout"
        }
      ]
    },
    {
      "cell_type": "code",
      "metadata": {
        "colab": {
          "base_uri": "https://localhost:8080/"
        },
        "id": "A7QfbDIWkiuS",
        "outputId": "851aa886-c15b-44f4-adf8-29fdea95057c"
      },
      "source": [
        "net._fc = nn.Linear(1280, 2)\n",
        "print(\"modified:\", net._fc)"
      ],
      "execution_count": null,
      "outputs": [
        {
          "output_type": "stream",
          "text": [
            "modified: Linear(in_features=1280, out_features=2, bias=True)\n"
          ],
          "name": "stdout"
        }
      ]
    },
    {
      "cell_type": "code",
      "metadata": {
        "colab": {
          "base_uri": "https://localhost:8080/"
        },
        "id": "wf4MJ4WofNGH",
        "outputId": "624eac43-0650-4585-eb99-bc332bf47e8d"
      },
      "source": [
        "print(net._fc.weight.size())\n",
        "print(net._fc.bias.size())"
      ],
      "execution_count": null,
      "outputs": [
        {
          "output_type": "stream",
          "text": [
            "torch.Size([2, 1280])\n",
            "torch.Size([2])\n"
          ],
          "name": "stdout"
        }
      ]
    },
    {
      "cell_type": "markdown",
      "metadata": {
        "id": "tikk7Vic_PSZ"
      },
      "source": [
        "**define loss function**"
      ]
    },
    {
      "cell_type": "code",
      "metadata": {
        "id": "DhDpzgFzkk__"
      },
      "source": [
        "criterion = nn.BCEWithLogitsLoss()"
      ],
      "execution_count": null,
      "outputs": []
    },
    {
      "cell_type": "code",
      "metadata": {
        "colab": {
          "base_uri": "https://localhost:8080/"
        },
        "id": "YKxfSEsCnpN6",
        "outputId": "b7c314b4-7597-45eb-da0a-814bf5ae462c"
      },
      "source": [
        "params_to_update = []\n",
        "update_param_names = [\"_fc.weight\", \"_fc.bias\"]\n",
        "print(net.named_parameters())\n",
        "# net._fc.bias.size()\n",
        "for name, param in net.named_parameters():\n",
        "  if name in update_param_names:\n",
        "    param.requires_grad = True\n",
        "    params_to_update.append(param)\n",
        "    print(name)\n",
        "  else:\n",
        "    param.requires_grad = False\n",
        "\n",
        "print(params_to_update)\n"
      ],
      "execution_count": null,
      "outputs": [
        {
          "output_type": "stream",
          "text": [
            "<generator object Module.named_parameters at 0x7f0911877d58>\n",
            "_fc.weight\n",
            "_fc.bias\n",
            "[Parameter containing:\n",
            "tensor([[-0.0002,  0.0262, -0.0251,  ...,  0.0272, -0.0179,  0.0140],\n",
            "        [-0.0136, -0.0162, -0.0258,  ...,  0.0149,  0.0037,  0.0125]],\n",
            "       requires_grad=True), Parameter containing:\n",
            "tensor([-0.0103, -0.0186], requires_grad=True)]\n"
          ],
          "name": "stdout"
        }
      ]
    },
    {
      "cell_type": "markdown",
      "metadata": {
        "id": "NYyUy2T-_Lx2"
      },
      "source": [
        "**define optimizer**"
      ]
    },
    {
      "cell_type": "code",
      "metadata": {
        "id": "NF_gXLIcoLOR"
      },
      "source": [
        "optimizer = optim.Adam(params=params_to_update, lr=0.0001)"
      ],
      "execution_count": null,
      "outputs": []
    },
    {
      "cell_type": "markdown",
      "metadata": {
        "id": "PdO07Bfj_JL3"
      },
      "source": [
        "**train code**\n"
      ]
    },
    {
      "cell_type": "code",
      "metadata": {
        "id": "y6hBU3QIKW5N"
      },
      "source": [
        "record_loss_train = []\n",
        "record_loss_test = []\n",
        "record_acc_train = []\n",
        "record_acc_test = []\n",
        "\n",
        "def calc_acc(pred, label):\n",
        "  return pred.eq(label).sum().numpy()/len(pred)\n",
        "\n",
        "def training(net, dataloaders_dict, criterion, optimizer, num_epochs):\n",
        "  net.to(\"cuda:0\")\n",
        "  for epoch in range(num_epochs):\n",
        "    print(\"Epoch {}/{}\".format(epoch+1, num_epochs))\n",
        "    print(\"-----------------\")\n",
        "    # 訓練の損失と正解率を計算\n",
        "    net.train()\n",
        "    # volatile = False\n",
        "    loss_train = 0.0\n",
        "\n",
        "    for j, (inputs, labels) in enumerate(dataloaders_dict[\"train\"]):\n",
        "      inputs, labels = inputs.cuda(), labels.cuda()\n",
        "      outputs = net(inputs)\n",
        "      loss = criterion(outputs, labels)\n",
        "      loss_train += loss.item()\n",
        "      predictions = torch.round(nn.Sigmoid()(outputs))\n",
        "      acc_list = []\n",
        "      for j, row in enumerate(predictions):\n",
        "        acc = calc_acc(torch.Tensor.cpu(row), torch.Tensor.cpu(labels[j]))\n",
        "        acc_list.append(acc)\n",
        "      optimizer.zero_grad()\n",
        "      loss.backward()\n",
        "      optimizer.step()\n",
        "    loss_train /= j+1\n",
        "    acc_train = np.asarray(acc_list).mean()\n",
        "    record_loss_train.append(loss_train)\n",
        "    record_acc_train.append(acc_train)\n",
        "\n",
        "    # 評価時の損失と正解率を計算\n",
        "    net.eval()\n",
        "    # volatile = True\n",
        "    loss_test = 0.0\n",
        "    \n",
        "    for j, (inputs_test, labels_test) in enumerate(dataloaders_dict[\"val\"]):\n",
        "      inputs_test, labels_test = inputs_test.cuda(), labels_test.cuda()\n",
        "      outputs_test = net(inputs_test)\n",
        "      loss = criterion(outputs_test, labels_test)\n",
        "      loss_test += loss.item()\n",
        "      predictions_test = torch.round(nn.Sigmoid()(outputs_test))\n",
        "      acc_list_test = []\n",
        "      for j, row in enumerate(predictions_test):\n",
        "        acc_t = calc_acc(torch.Tensor.cpu(row), torch.Tensor.cpu(labels_test[j]))\n",
        "        acc_list_test.append(acc_t)\n",
        "    loss_test /= j+1\n",
        "    acc_test = np.asarray(acc_list_test).mean()\n",
        "    record_loss_test.append(loss_test)\n",
        "    record_acc_test.append(acc_test)\n",
        "\n",
        "    if epoch%1 == 0:\n",
        "      print(\"Epoch:\", epoch+1, \"\\n\", \"Loss_Train:\", loss_train, \"Loss_Test:\", loss_test, \"\\n\",\\\n",
        "            \"Acc_Train:\", acc_train, \"Acc_Test:\", acc_test)\n"
      ],
      "execution_count": null,
      "outputs": []
    },
    {
      "cell_type": "markdown",
      "metadata": {
        "id": "Y-SEtQ4V_DQC"
      },
      "source": [
        "**train**\\\r\n",
        "(guess should've done more epochs)"
      ]
    },
    {
      "cell_type": "code",
      "metadata": {
        "colab": {
          "base_uri": "https://localhost:8080/"
        },
        "id": "y_8v9uZ7tXmy",
        "outputId": "44d76d2e-e5f4-463f-ec34-aeb740a1d785"
      },
      "source": [
        "num_epochs = 100\n",
        "\n",
        "training(net, dataloaders_dict, criterion, optimizer, num_epochs=num_epochs)"
      ],
      "execution_count": null,
      "outputs": [
        {
          "output_type": "stream",
          "text": [
            "Epoch 1/100\n",
            "-----------------\n",
            "Epoch: 1 \n",
            " Loss_Train: 0.6334902085363865 Loss_Test: 0.48868899596364873 \n",
            " Acc_Train: 0.640625 Acc_Test: 0.5526315789473685\n",
            "Epoch 2/100\n",
            "-----------------\n",
            "Epoch: 2 \n",
            " Loss_Train: 0.6080973241478205 Loss_Test: 0.4652491839308488 \n",
            " Acc_Train: 0.796875 Acc_Test: 0.631578947368421\n",
            "Epoch 3/100\n",
            "-----------------\n",
            "Epoch: 3 \n",
            " Loss_Train: 0.5874548628926277 Loss_Test: 0.4442279150611476 \n",
            " Acc_Train: 0.734375 Acc_Test: 0.7631578947368421\n",
            "Epoch 4/100\n",
            "-----------------\n",
            "Epoch: 4 \n",
            " Loss_Train: 0.5675001852214336 Loss_Test: 0.42488131083940206 \n",
            " Acc_Train: 0.78125 Acc_Test: 0.8947368421052632\n",
            "Epoch 5/100\n",
            "-----------------\n",
            "Epoch: 5 \n",
            " Loss_Train: 0.5475474148988724 Loss_Test: 0.40773569282732514 \n",
            " Acc_Train: 0.84375 Acc_Test: 0.9473684210526315\n",
            "Epoch 6/100\n",
            "-----------------\n",
            "Epoch: 6 \n",
            " Loss_Train: 0.5320828128606081 Loss_Test: 0.39388370513916016 \n",
            " Acc_Train: 0.859375 Acc_Test: 0.7894736842105263\n",
            "Epoch 7/100\n",
            "-----------------\n",
            "Epoch: 7 \n",
            " Loss_Train: 0.5170498564839363 Loss_Test: 0.3820053197835621 \n",
            " Acc_Train: 0.859375 Acc_Test: 0.8947368421052632\n",
            "Epoch 8/100\n",
            "-----------------\n",
            "Epoch: 8 \n",
            " Loss_Train: 0.5034239683300257 Loss_Test: 0.3719906571664308 \n",
            " Acc_Train: 0.828125 Acc_Test: 0.8421052631578947\n",
            "Epoch 9/100\n",
            "-----------------\n",
            "Epoch: 9 \n",
            " Loss_Train: 0.4921913966536522 Loss_Test: 0.36348465869301244 \n",
            " Acc_Train: 0.859375 Acc_Test: 0.8947368421052632\n",
            "Epoch 10/100\n",
            "-----------------\n",
            "Epoch: 10 \n",
            " Loss_Train: 0.47931242175400257 Loss_Test: 0.35544593083231074 \n",
            " Acc_Train: 0.859375 Acc_Test: 0.8157894736842105\n",
            "Epoch 11/100\n",
            "-----------------\n",
            "Epoch: 11 \n",
            " Loss_Train: 0.4706949647516012 Loss_Test: 0.3481402177559702 \n",
            " Acc_Train: 0.8125 Acc_Test: 0.8157894736842105\n",
            "Epoch 12/100\n",
            "-----------------\n",
            "Epoch: 12 \n",
            " Loss_Train: 0.4613411845639348 Loss_Test: 0.34096883002080414 \n",
            " Acc_Train: 0.84375 Acc_Test: 0.868421052631579\n",
            "Epoch 13/100\n",
            "-----------------\n",
            "Epoch: 13 \n",
            " Loss_Train: 0.44783459417521954 Loss_Test: 0.33484555075043126 \n",
            " Acc_Train: 0.8125 Acc_Test: 0.9473684210526315\n",
            "Epoch 14/100\n",
            "-----------------\n",
            "Epoch: 14 \n",
            " Loss_Train: 0.44193918257951736 Loss_Test: 0.3279904597683957 \n",
            " Acc_Train: 0.96875 Acc_Test: 0.9473684210526315\n",
            "Epoch 15/100\n",
            "-----------------\n",
            "Epoch: 15 \n",
            " Loss_Train: 0.4284955011680722 Loss_Test: 0.324006692359322 \n",
            " Acc_Train: 0.78125 Acc_Test: 0.8421052631578947\n",
            "Epoch 16/100\n",
            "-----------------\n",
            "Epoch: 16 \n",
            " Loss_Train: 0.4241448640823364 Loss_Test: 0.31778635006201894 \n",
            " Acc_Train: 0.8125 Acc_Test: 0.868421052631579\n",
            "Epoch 17/100\n",
            "-----------------\n",
            "Epoch: 17 \n",
            " Loss_Train: 0.4165636086836457 Loss_Test: 0.31300029315446554 \n",
            " Acc_Train: 0.875 Acc_Test: 0.8157894736842105\n",
            "Epoch 18/100\n",
            "-----------------\n",
            "Epoch: 18 \n",
            " Loss_Train: 0.40720764454454184 Loss_Test: 0.3084118977973336 \n",
            " Acc_Train: 0.890625 Acc_Test: 0.8157894736842105\n",
            "Epoch 19/100\n",
            "-----------------\n",
            "Epoch: 19 \n",
            " Loss_Train: 0.4017125181853771 Loss_Test: 0.30277821892186213 \n",
            " Acc_Train: 0.890625 Acc_Test: 0.9473684210526315\n",
            "Epoch 20/100\n",
            "-----------------\n",
            "Epoch: 20 \n",
            " Loss_Train: 0.4023675685748458 Loss_Test: 0.2996134914849934 \n",
            " Acc_Train: 0.890625 Acc_Test: 0.8421052631578947\n",
            "Epoch 21/100\n",
            "-----------------\n",
            "Epoch: 21 \n",
            " Loss_Train: 0.3895174665376544 Loss_Test: 0.29579156480337443 \n",
            " Acc_Train: 0.90625 Acc_Test: 0.868421052631579\n",
            "Epoch 22/100\n",
            "-----------------\n",
            "Epoch: 22 \n",
            " Loss_Train: 0.38645511865615845 Loss_Test: 0.2907849393392864 \n",
            " Acc_Train: 0.90625 Acc_Test: 0.868421052631579\n",
            "Epoch 23/100\n",
            "-----------------\n",
            "Epoch: 23 \n",
            " Loss_Train: 0.3822774700820446 Loss_Test: 0.28761572273154007 \n",
            " Acc_Train: 0.890625 Acc_Test: 0.8421052631578947\n",
            "Epoch 24/100\n",
            "-----------------\n",
            "Epoch: 24 \n",
            " Loss_Train: 0.3790783900767565 Loss_Test: 0.2829242270243795 \n",
            " Acc_Train: 0.90625 Acc_Test: 0.8421052631578947\n",
            "Epoch 25/100\n",
            "-----------------\n",
            "Epoch: 25 \n",
            " Loss_Train: 0.373478421010077 Loss_Test: 0.2798519840365962 \n",
            " Acc_Train: 0.828125 Acc_Test: 0.9210526315789473\n",
            "Epoch 26/100\n",
            "-----------------\n",
            "Epoch: 26 \n",
            " Loss_Train: 0.37085462640970945 Loss_Test: 0.27657553867289897 \n",
            " Acc_Train: 0.84375 Acc_Test: 0.9210526315789473\n",
            "Epoch 27/100\n",
            "-----------------\n",
            "Epoch: 27 \n",
            " Loss_Train: 0.36769027914851904 Loss_Test: 0.27228519477342306 \n",
            " Acc_Train: 0.78125 Acc_Test: 0.9736842105263158\n",
            "Epoch 28/100\n",
            "-----------------\n",
            "Epoch: 28 \n",
            " Loss_Train: 0.3620970696210861 Loss_Test: 0.26988912412994787 \n",
            " Acc_Train: 0.859375 Acc_Test: 0.9473684210526315\n",
            "Epoch 29/100\n",
            "-----------------\n",
            "Epoch: 29 \n",
            " Loss_Train: 0.36088689137250185 Loss_Test: 0.26683296812208074 \n",
            " Acc_Train: 0.921875 Acc_Test: 0.9210526315789473\n",
            "Epoch 30/100\n",
            "-----------------\n",
            "Epoch: 30 \n",
            " Loss_Train: 0.3532386850565672 Loss_Test: 0.26514448303925364 \n",
            " Acc_Train: 0.890625 Acc_Test: 0.8421052631578947\n",
            "Epoch 31/100\n",
            "-----------------\n",
            "Epoch: 31 \n",
            " Loss_Train: 0.3513954943045974 Loss_Test: 0.2633254073168102 \n",
            " Acc_Train: 0.859375 Acc_Test: 0.8421052631578947\n",
            "Epoch 32/100\n",
            "-----------------\n",
            "Epoch: 32 \n",
            " Loss_Train: 0.34673580154776573 Loss_Test: 0.2596786241782339 \n",
            " Acc_Train: 0.796875 Acc_Test: 0.8947368421052632\n",
            "Epoch 33/100\n",
            "-----------------\n",
            "Epoch: 33 \n",
            " Loss_Train: 0.3471819134429097 Loss_Test: 0.25724532102283676 \n",
            " Acc_Train: 0.90625 Acc_Test: 0.9210526315789473\n",
            "Epoch 34/100\n",
            "-----------------\n",
            "Epoch: 34 \n",
            " Loss_Train: 0.3342766957357526 Loss_Test: 0.2534021656764181 \n",
            " Acc_Train: 0.828125 Acc_Test: 0.9473684210526315\n",
            "Epoch 35/100\n",
            "-----------------\n",
            "Epoch: 35 \n",
            " Loss_Train: 0.33600417617708445 Loss_Test: 0.2531275655093946 \n",
            " Acc_Train: 0.90625 Acc_Test: 0.9473684210526315\n",
            "Epoch 36/100\n",
            "-----------------\n",
            "Epoch: 36 \n",
            " Loss_Train: 0.3366450918838382 Loss_Test: 0.25052622431202937 \n",
            " Acc_Train: 0.921875 Acc_Test: 0.9210526315789473\n",
            "Epoch 37/100\n",
            "-----------------\n",
            "Epoch: 37 \n",
            " Loss_Train: 0.33669424150139093 Loss_Test: 0.24895786297948738 \n",
            " Acc_Train: 0.859375 Acc_Test: 0.868421052631579\n",
            "Epoch 38/100\n",
            "-----------------\n",
            "Epoch: 38 \n",
            " Loss_Train: 0.3308959621936083 Loss_Test: 0.24504003869859795 \n",
            " Acc_Train: 0.78125 Acc_Test: 0.9473684210526315\n",
            "Epoch 39/100\n",
            "-----------------\n",
            "Epoch: 39 \n",
            " Loss_Train: 0.32099795434623957 Loss_Test: 0.2447953977082905 \n",
            " Acc_Train: 0.84375 Acc_Test: 0.9210526315789473\n",
            "Epoch 40/100\n",
            "-----------------\n",
            "Epoch: 40 \n",
            " Loss_Train: 0.3205842236056924 Loss_Test: 0.2429172318232687 \n",
            " Acc_Train: 0.890625 Acc_Test: 0.8947368421052632\n",
            "Epoch 41/100\n",
            "-----------------\n",
            "Epoch: 41 \n",
            " Loss_Train: 0.3207292016595602 Loss_Test: 0.23964534307781019 \n",
            " Acc_Train: 0.921875 Acc_Test: 0.9736842105263158\n",
            "Epoch 42/100\n",
            "-----------------\n",
            "Epoch: 42 \n",
            " Loss_Train: 0.3199690068140626 Loss_Test: 0.2393548221964585 \n",
            " Acc_Train: 0.96875 Acc_Test: 0.9210526315789473\n",
            "Epoch 43/100\n",
            "-----------------\n",
            "Epoch: 43 \n",
            " Loss_Train: 0.3231592010706663 Loss_Test: 0.23897200509121544 \n",
            " Acc_Train: 0.90625 Acc_Test: 0.868421052631579\n",
            "Epoch 44/100\n",
            "-----------------\n",
            "Epoch: 44 \n",
            " Loss_Train: 0.3145599039271474 Loss_Test: 0.23626300221995303 \n",
            " Acc_Train: 0.890625 Acc_Test: 0.9473684210526315\n",
            "Epoch 45/100\n",
            "-----------------\n",
            "Epoch: 45 \n",
            " Loss_Train: 0.3132422985509038 Loss_Test: 0.23437707675130745 \n",
            " Acc_Train: 0.90625 Acc_Test: 0.9210526315789473\n",
            "Epoch 46/100\n",
            "-----------------\n",
            "Epoch: 46 \n",
            " Loss_Train: 0.3018552651628852 Loss_Test: 0.23344281629512184 \n",
            " Acc_Train: 0.828125 Acc_Test: 0.9736842105263158\n",
            "Epoch 47/100\n",
            "-----------------\n",
            "Epoch: 47 \n",
            " Loss_Train: 0.304317619651556 Loss_Test: 0.23209099863704882 \n",
            " Acc_Train: 0.921875 Acc_Test: 0.8947368421052632\n",
            "Epoch 48/100\n",
            "-----------------\n",
            "Epoch: 48 \n",
            " Loss_Train: 0.3063799338415265 Loss_Test: 0.23028477242118434 \n",
            " Acc_Train: 0.84375 Acc_Test: 0.9210526315789473\n",
            "Epoch 49/100\n",
            "-----------------\n",
            "Epoch: 49 \n",
            " Loss_Train: 0.31096007116138935 Loss_Test: 0.23014643239347557 \n",
            " Acc_Train: 0.859375 Acc_Test: 0.868421052631579\n",
            "Epoch 50/100\n",
            "-----------------\n",
            "Epoch: 50 \n",
            " Loss_Train: 0.2978251092135906 Loss_Test: 0.22802220363365977 \n",
            " Acc_Train: 0.953125 Acc_Test: 0.8947368421052632\n",
            "Epoch 51/100\n",
            "-----------------\n",
            "Epoch: 51 \n",
            " Loss_Train: 0.3031851826235652 Loss_Test: 0.2279713734200126 \n",
            " Acc_Train: 0.90625 Acc_Test: 0.8421052631578947\n",
            "Epoch 52/100\n",
            "-----------------\n",
            "Epoch: 52 \n",
            " Loss_Train: 0.3006806084886193 Loss_Test: 0.22552160683431124 \n",
            " Acc_Train: 0.921875 Acc_Test: 0.8947368421052632\n",
            "Epoch 53/100\n",
            "-----------------\n",
            "Epoch: 53 \n",
            " Loss_Train: 0.3010649122297764 Loss_Test: 0.22461385789670443 \n",
            " Acc_Train: 0.890625 Acc_Test: 0.8947368421052632\n",
            "Epoch 54/100\n",
            "-----------------\n",
            "Epoch: 54 \n",
            " Loss_Train: 0.2945555131882429 Loss_Test: 0.22225695221047653 \n",
            " Acc_Train: 0.8125 Acc_Test: 0.9736842105263158\n",
            "Epoch 55/100\n",
            "-----------------\n",
            "Epoch: 55 \n",
            " Loss_Train: 0.29789242520928383 Loss_Test: 0.22008505149891502 \n",
            " Acc_Train: 0.921875 Acc_Test: 0.9736842105263158\n",
            "Epoch 56/100\n",
            "-----------------\n",
            "Epoch: 56 \n",
            " Loss_Train: 0.29596974048763514 Loss_Test: 0.21926520686400564 \n",
            " Acc_Train: 0.921875 Acc_Test: 0.9473684210526315\n",
            "Epoch 57/100\n",
            "-----------------\n",
            "Epoch: 57 \n",
            " Loss_Train: 0.2928939200937748 Loss_Test: 0.21934867689484044 \n",
            " Acc_Train: 0.875 Acc_Test: 0.9473684210526315\n",
            "Epoch 58/100\n",
            "-----------------\n",
            "Epoch: 58 \n",
            " Loss_Train: 0.2872867677360773 Loss_Test: 0.22003761404439023 \n",
            " Acc_Train: 0.921875 Acc_Test: 0.8421052631578947\n",
            "Epoch 59/100\n",
            "-----------------\n",
            "Epoch: 59 \n",
            " Loss_Train: 0.29437715094536543 Loss_Test: 0.2163169713396775 \n",
            " Acc_Train: 0.859375 Acc_Test: 0.9473684210526315\n",
            "Epoch 60/100\n",
            "-----------------\n",
            "Epoch: 60 \n",
            " Loss_Train: 0.2812029947526753 Loss_Test: 0.21519163015641665 \n",
            " Acc_Train: 0.90625 Acc_Test: 0.9473684210526315\n",
            "Epoch 61/100\n",
            "-----------------\n",
            "Epoch: 61 \n",
            " Loss_Train: 0.2823493778705597 Loss_Test: 0.21560536717113696 \n",
            " Acc_Train: 0.921875 Acc_Test: 0.9473684210526315\n",
            "Epoch 62/100\n",
            "-----------------\n",
            "Epoch: 62 \n",
            " Loss_Train: 0.2801831681281328 Loss_Test: 0.21557888859196714 \n",
            " Acc_Train: 0.90625 Acc_Test: 0.8947368421052632\n",
            "Epoch 63/100\n",
            "-----------------\n",
            "Epoch: 63 \n",
            " Loss_Train: 0.29284480307251215 Loss_Test: 0.2112920692092494 \n",
            " Acc_Train: 0.875 Acc_Test: 1.0\n",
            "Epoch 64/100\n",
            "-----------------\n",
            "Epoch: 64 \n",
            " Loss_Train: 0.2945351875387132 Loss_Test: 0.21269710597239042 \n",
            " Acc_Train: 0.84375 Acc_Test: 0.9473684210526315\n",
            "Epoch 65/100\n",
            "-----------------\n",
            "Epoch: 65 \n",
            " Loss_Train: 0.288057379424572 Loss_Test: 0.20964861229846352 \n",
            " Acc_Train: 0.921875 Acc_Test: 0.9473684210526315\n",
            "Epoch 66/100\n",
            "-----------------\n",
            "Epoch: 66 \n",
            " Loss_Train: 0.2872572881169617 Loss_Test: 0.2092118474997972 \n",
            " Acc_Train: 0.90625 Acc_Test: 0.9736842105263158\n",
            "Epoch 67/100\n",
            "-----------------\n",
            "Epoch: 67 \n",
            " Loss_Train: 0.2808100515976548 Loss_Test: 0.21036858464542188 \n",
            " Acc_Train: 0.9375 Acc_Test: 0.868421052631579\n",
            "Epoch 68/100\n",
            "-----------------\n",
            "Epoch: 68 \n",
            " Loss_Train: 0.27299738489091396 Loss_Test: 0.2094547246631823 \n",
            " Acc_Train: 0.90625 Acc_Test: 0.9210526315789473\n",
            "Epoch 69/100\n",
            "-----------------\n",
            "Epoch: 69 \n",
            " Loss_Train: 0.2801763853058219 Loss_Test: 0.20702165678927772 \n",
            " Acc_Train: 0.875 Acc_Test: 0.9473684210526315\n",
            "Epoch 70/100\n",
            "-----------------\n",
            "Epoch: 70 \n",
            " Loss_Train: 0.2800128534436226 Loss_Test: 0.20679561009532527 \n",
            " Acc_Train: 0.921875 Acc_Test: 0.9210526315789473\n",
            "Epoch 71/100\n",
            "-----------------\n",
            "Epoch: 71 \n",
            " Loss_Train: 0.277480342425406 Loss_Test: 0.2069596844284158 \n",
            " Acc_Train: 0.859375 Acc_Test: 0.8947368421052632\n",
            "Epoch 72/100\n",
            "-----------------\n",
            "Epoch: 72 \n",
            " Loss_Train: 0.27448379062116146 Loss_Test: 0.20741838216781616 \n",
            " Acc_Train: 0.90625 Acc_Test: 0.9210526315789473\n",
            "Epoch 73/100\n",
            "-----------------\n",
            "Epoch: 73 \n",
            " Loss_Train: 0.2764898561872542 Loss_Test: 0.2053702136403636 \n",
            " Acc_Train: 0.890625 Acc_Test: 0.9210526315789473\n",
            "Epoch 74/100\n",
            "-----------------\n",
            "Epoch: 74 \n",
            " Loss_Train: 0.2773311026394367 Loss_Test: 0.20370708798107348 \n",
            " Acc_Train: 0.921875 Acc_Test: 1.0\n",
            "Epoch 75/100\n",
            "-----------------\n",
            "Epoch: 75 \n",
            " Loss_Train: 0.2760952436365187 Loss_Test: 0.20355093322302165 \n",
            " Acc_Train: 0.890625 Acc_Test: 0.9473684210526315\n",
            "Epoch 76/100\n",
            "-----------------\n",
            "Epoch: 76 \n",
            " Loss_Train: 0.2778925383463502 Loss_Test: 0.20400318817088478 \n",
            " Acc_Train: 0.875 Acc_Test: 0.8947368421052632\n",
            "Epoch 77/100\n",
            "-----------------\n",
            "Epoch: 77 \n",
            " Loss_Train: 0.26293893065303564 Loss_Test: 0.2024068197137431 \n",
            " Acc_Train: 0.890625 Acc_Test: 0.9473684210526315\n",
            "Epoch 78/100\n",
            "-----------------\n",
            "Epoch: 78 \n",
            " Loss_Train: 0.27631766023114324 Loss_Test: 0.2042601139921891 \n",
            " Acc_Train: 0.921875 Acc_Test: 0.7631578947368421\n",
            "Epoch 79/100\n",
            "-----------------\n",
            "Epoch: 79 \n",
            " Loss_Train: 0.2654763422906399 Loss_Test: 0.20187751556697645 \n",
            " Acc_Train: 0.984375 Acc_Test: 0.9210526315789473\n",
            "Epoch 80/100\n",
            "-----------------\n",
            "Epoch: 80 \n",
            " Loss_Train: 0.266656665597111 Loss_Test: 0.2002335167244861 \n",
            " Acc_Train: 0.921875 Acc_Test: 0.9473684210526315\n",
            "Epoch 81/100\n",
            "-----------------\n",
            "Epoch: 81 \n",
            " Loss_Train: 0.26579686626791954 Loss_Test: 0.19995375134442983 \n",
            " Acc_Train: 0.84375 Acc_Test: 0.8947368421052632\n",
            "Epoch 82/100\n",
            "-----------------\n",
            "Epoch: 82 \n",
            " Loss_Train: 0.25555473705753684 Loss_Test: 0.19954039234864085 \n",
            " Acc_Train: 0.90625 Acc_Test: 0.9736842105263158\n",
            "Epoch 83/100\n",
            "-----------------\n",
            "Epoch: 83 \n",
            " Loss_Train: 0.2522227889858186 Loss_Test: 0.1992725337806501 \n",
            " Acc_Train: 0.875 Acc_Test: 0.9473684210526315\n",
            "Epoch 84/100\n",
            "-----------------\n",
            "Epoch: 84 \n",
            " Loss_Train: 0.2569204466417432 Loss_Test: 0.19873598374818502 \n",
            " Acc_Train: 0.859375 Acc_Test: 0.9736842105263158\n",
            "Epoch 85/100\n",
            "-----------------\n",
            "Epoch: 85 \n",
            " Loss_Train: 0.26265430077910423 Loss_Test: 0.1991228665176191 \n",
            " Acc_Train: 0.890625 Acc_Test: 0.868421052631579\n",
            "Epoch 86/100\n",
            "-----------------\n",
            "Epoch: 86 \n",
            " Loss_Train: 0.25744593515992165 Loss_Test: 0.19923142069264463 \n",
            " Acc_Train: 0.953125 Acc_Test: 0.8421052631578947\n",
            "Epoch 87/100\n",
            "-----------------\n",
            "Epoch: 87 \n",
            " Loss_Train: 0.2607186697423458 Loss_Test: 0.197180018613213 \n",
            " Acc_Train: 0.890625 Acc_Test: 0.8947368421052632\n",
            "Epoch 88/100\n",
            "-----------------\n",
            "Epoch: 88 \n",
            " Loss_Train: 0.2602325971238315 Loss_Test: 0.19553082946099734 \n",
            " Acc_Train: 0.921875 Acc_Test: 0.9736842105263158\n",
            "Epoch 89/100\n",
            "-----------------\n",
            "Epoch: 89 \n",
            " Loss_Train: 0.26573208905756474 Loss_Test: 0.19769545448453804 \n",
            " Acc_Train: 0.9375 Acc_Test: 0.8421052631578947\n",
            "Epoch 90/100\n",
            "-----------------\n",
            "Epoch: 90 \n",
            " Loss_Train: 0.26098154159262776 Loss_Test: 0.19503211739816165 \n",
            " Acc_Train: 0.875 Acc_Test: 0.9473684210526315\n",
            "Epoch 91/100\n",
            "-----------------\n",
            "Epoch: 91 \n",
            " Loss_Train: 0.26484681526198983 Loss_Test: 0.19376160047556223 \n",
            " Acc_Train: 0.921875 Acc_Test: 0.9473684210526315\n",
            "Epoch 92/100\n",
            "-----------------\n",
            "Epoch: 92 \n",
            " Loss_Train: 0.25573306111618876 Loss_Test: 0.19386908647261167 \n",
            " Acc_Train: 0.890625 Acc_Test: 0.9210526315789473\n",
            "Epoch 93/100\n",
            "-----------------\n",
            "Epoch: 93 \n",
            " Loss_Train: 0.25193575769662857 Loss_Test: 0.1937000649540048 \n",
            " Acc_Train: 0.984375 Acc_Test: 0.9210526315789473\n",
            "Epoch 94/100\n",
            "-----------------\n",
            "Epoch: 94 \n",
            " Loss_Train: 0.25456103309988976 Loss_Test: 0.19262426228899704 \n",
            " Acc_Train: 0.9375 Acc_Test: 0.9210526315789473\n",
            "Epoch 95/100\n",
            "-----------------\n",
            "Epoch: 95 \n",
            " Loss_Train: 0.2508085761219263 Loss_Test: 0.19294612109661102 \n",
            " Acc_Train: 0.921875 Acc_Test: 0.868421052631579\n",
            "Epoch 96/100\n",
            "-----------------\n",
            "Epoch: 96 \n",
            " Loss_Train: 0.2579536191187799 Loss_Test: 0.19172006610192752 \n",
            " Acc_Train: 0.9375 Acc_Test: 0.9210526315789473\n",
            "Epoch 97/100\n",
            "-----------------\n",
            "Epoch: 97 \n",
            " Loss_Train: 0.2596388510428369 Loss_Test: 0.19420432887579264 \n",
            " Acc_Train: 0.875 Acc_Test: 0.8421052631578947\n",
            "Epoch 98/100\n",
            "-----------------\n",
            "Epoch: 98 \n",
            " Loss_Train: 0.2531043463386595 Loss_Test: 0.1910736200056578 \n",
            " Acc_Train: 0.875 Acc_Test: 0.9210526315789473\n",
            "Epoch 99/100\n",
            "-----------------\n",
            "Epoch: 99 \n",
            " Loss_Train: 0.24424783093854785 Loss_Test: 0.19224667941269122 \n",
            " Acc_Train: 0.859375 Acc_Test: 0.8947368421052632\n",
            "Epoch 100/100\n",
            "-----------------\n",
            "Epoch: 100 \n",
            " Loss_Train: 0.25129724107682705 Loss_Test: 0.19024609735137538 \n",
            " Acc_Train: 0.9375 Acc_Test: 0.8421052631578947\n"
          ],
          "name": "stdout"
        }
      ]
    },
    {
      "cell_type": "markdown",
      "metadata": {
        "id": "VvNO183Ei_8R"
      },
      "source": [
        "**losses**"
      ]
    },
    {
      "cell_type": "code",
      "metadata": {
        "colab": {
          "base_uri": "https://localhost:8080/",
          "height": 279
        },
        "id": "5f_CxmLXFPid",
        "outputId": "7d70c51b-2df6-41da-a633-81cc1fe420bf"
      },
      "source": [
        "# loss show\n",
        "plt.plot(range(len(record_loss_train)), record_loss_train, label=\"train_loss\")\n",
        "plt.plot(range(len(record_loss_test)), record_loss_test, label=\"test_loss\")\n",
        "plt.legend()\n",
        "plt.xlabel(\"Epoch\")\n",
        "plt.ylabel(\"Loss\")\n",
        "plt.show()"
      ],
      "execution_count": null,
      "outputs": [
        {
          "output_type": "display_data",
          "data": {
            "image/png": "[encoded data removed]",
            "text/plain": [
              "<Figure size 432x288 with 1 Axes>"
            ]
          },
          "metadata": {
            "tags": [],
            "needs_background": "light"
          }
        }
      ]
    },
    {
      "cell_type": "markdown",
      "metadata": {
        "id": "bJSOvXgGjOGw"
      },
      "source": [
        "**accuracies**"
      ]
    },
    {
      "cell_type": "code",
      "metadata": {
        "colab": {
          "base_uri": "https://localhost:8080/",
          "height": 279
        },
        "id": "pW4DEbtBEJfL",
        "outputId": "e330edd1-7e07-467d-96ae-dcb76788cf32"
      },
      "source": [
        "# acc show\n",
        "plt.plot(range(len(record_acc_train)), record_acc_train, label=\"train_acc\")\n",
        "plt.plot(range(len(record_acc_test)), record_acc_test, label=\"test_acc\")\n",
        "plt.legend()\n",
        "plt.xlabel(\"Epoch\")\n",
        "plt.ylabel(\"Acc\")\n",
        "plt.show()"
      ],
      "execution_count": null,
      "outputs": [
        {
          "output_type": "display_data",
          "data": {
            "image/png": "[encoded data removed]",
            "text/plain": [
              "<Figure size 432x288 with 1 Axes>"
            ]
          },
          "metadata": {
            "tags": [],
            "needs_background": "light"
          }
        }
      ]
    },
    {
      "cell_type": "markdown",
      "metadata": {
        "id": "mALhBkt1jWAl"
      },
      "source": [
        "**save parameters**"
      ]
    },
    {
      "cell_type": "code",
      "metadata": {
        "id": "IIKEDua3zUWT"
      },
      "source": [
        "torch.save(net.state_dict(), \"/content/drive/MyDrive/efficient1204.pth\")"
      ],
      "execution_count": null,
      "outputs": []
    }
  ]
}